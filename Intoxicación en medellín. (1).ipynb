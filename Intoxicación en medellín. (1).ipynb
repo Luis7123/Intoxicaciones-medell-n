{
 "cells": [
  {
   "cell_type": "code",
   "execution_count": 1,
   "metadata": {},
   "outputs": [],
   "source": [
    "# Importamos Librerias para vizualizacion de datos.\n",
    "import pandas as pd\n",
    "import numpy as np\n",
    "import seaborn as sns\n",
    "import matplotlib.pyplot as plt\n",
    "import scipy.stats\n",
    "sns.set()"
   ]
  },
  {
   "cell_type": "markdown",
   "metadata": {},
   "source": [
    "## Descripción de la base.\n",
    "\n",
    "| Variable    | Description                                                                                                                                          |\n",
    "| ----------- | ---------------------------------------------------------------------------------------------------------------------------------------------------- |\n",
    "| id    | (poner informacion)                                                                                      |\n",
    "| semana         | Semanas desde la 1-53                                                                                                                                    |\n",
    "| edad      | Edades generales.\n",
    "                    |\n",
    "| uni_med    | 0= No aplica, 1=Años, 2=Meses, 3=Días, 4=Horas, 5=Minutos SD=Sin informacion                                                                                                             |\n",
    "| sexo      | M=Masculino, F=Femenino, SD=Sin informacion \n",
    "                        |\n",
    "| nombre_barrio        | Texto asociado a la tabla de barrios definidos por la entidad territorial.  \n",
    "                        |\n",
    "| comuna    | Texto asociado a la tabla de comunas definidas por la entidad territorial.                                                                                                       |\n",
    "| tipo_ss      | C= Contributivo, S=Subsidiado, P=Excepción, E=Especial, N= No asegurado, I= Indeterminado/Pendiente, SD=Sin informacion.                                                                                                            |\n",
    "| cod_Ase      | Texto de 6 dígitos                                                                                                                 |\n",
    "| fec_con    | DD/MM/AAAA (Día, Mes, Año). (string)                                                                                               |\n",
    "| ini_sin | DD/MM/AAAA (Día, Mes, Año). (formato fecha)                                                                                                            |\n",
    "| tip_cas        | 1=Sospechoso, 2= Probable,3=Confirmado por laboratorio, 4=Confirmado por clinica ,5= Confirmado por nexo epidemiológico                                                                                                                      |\n",
    "| pac_hos        | 1= Si 2= No                                                                                                                      |\n",
    "| evento        | Texto asociado a los eventos notificados.                                                                                                                      |\n",
    "| year        | Texto asociado al año de notificación                                                                                                                    |"
   ]
  },
  {
   "cell_type": "code",
   "execution_count": 2,
   "metadata": {},
   "outputs": [
    {
     "data": {
      "text/html": [
       "<div>\n",
       "<style scoped>\n",
       "    .dataframe tbody tr th:only-of-type {\n",
       "        vertical-align: middle;\n",
       "    }\n",
       "\n",
       "    .dataframe tbody tr th {\n",
       "        vertical-align: top;\n",
       "    }\n",
       "\n",
       "    .dataframe thead th {\n",
       "        text-align: right;\n",
       "    }\n",
       "</style>\n",
       "<table border=\"1\" class=\"dataframe\">\n",
       "  <thead>\n",
       "    <tr style=\"text-align: right;\">\n",
       "      <th></th>\n",
       "      <th>id</th>\n",
       "      <th>semana</th>\n",
       "      <th>edad_</th>\n",
       "      <th>uni_med_</th>\n",
       "      <th>sexo_</th>\n",
       "      <th>nombre_barrio</th>\n",
       "      <th>comuna</th>\n",
       "      <th>tipo_ss_</th>\n",
       "      <th>cod_ase_</th>\n",
       "      <th>fec_con_</th>\n",
       "      <th>ini_sin_</th>\n",
       "      <th>tip_cas_</th>\n",
       "      <th>pac_hos_</th>\n",
       "      <th>evento</th>\n",
       "      <th>year_</th>\n",
       "    </tr>\n",
       "  </thead>\n",
       "  <tbody>\n",
       "    <tr>\n",
       "      <th>0</th>\n",
       "      <td>87355</td>\n",
       "      <td>46</td>\n",
       "      <td>32</td>\n",
       "      <td>1</td>\n",
       "      <td>M</td>\n",
       "      <td>El Poblado</td>\n",
       "      <td>El Poblado</td>\n",
       "      <td>C</td>\n",
       "      <td>EPS005</td>\n",
       "      <td>2010-11-20</td>\n",
       "      <td>2010-11-20</td>\n",
       "      <td>4</td>\n",
       "      <td>2</td>\n",
       "      <td>INTOXICACION POR SUSTANCIAS PSICOACTIVAS</td>\n",
       "      <td>2010</td>\n",
       "    </tr>\n",
       "    <tr>\n",
       "      <th>1</th>\n",
       "      <td>87356</td>\n",
       "      <td>46</td>\n",
       "      <td>36</td>\n",
       "      <td>1</td>\n",
       "      <td>F</td>\n",
       "      <td>SIN INFORMACION</td>\n",
       "      <td>SIN INFORMACION</td>\n",
       "      <td>C</td>\n",
       "      <td>EPS013</td>\n",
       "      <td>2010-11-16</td>\n",
       "      <td>2010-11-16</td>\n",
       "      <td>4</td>\n",
       "      <td>1</td>\n",
       "      <td>INTOXICACION POR SUSTANCIAS PSICOACTIVAS</td>\n",
       "      <td>2010</td>\n",
       "    </tr>\n",
       "    <tr>\n",
       "      <th>2</th>\n",
       "      <td>87357</td>\n",
       "      <td>46</td>\n",
       "      <td>17</td>\n",
       "      <td>1</td>\n",
       "      <td>F</td>\n",
       "      <td>Campo Valdes No.2</td>\n",
       "      <td>Manrique</td>\n",
       "      <td>C</td>\n",
       "      <td>5000</td>\n",
       "      <td>2010-11-19</td>\n",
       "      <td>2010-11-18</td>\n",
       "      <td>4</td>\n",
       "      <td>2</td>\n",
       "      <td>INTOXICACION POR SUSTANCIAS PSICOACTIVAS</td>\n",
       "      <td>2010</td>\n",
       "    </tr>\n",
       "  </tbody>\n",
       "</table>\n",
       "</div>"
      ],
      "text/plain": [
       "      id  semana  edad_  uni_med_ sexo_      nombre_barrio           comuna  \\\n",
       "0  87355      46     32         1     M         El Poblado       El Poblado   \n",
       "1  87356      46     36         1     F    SIN INFORMACION  SIN INFORMACION   \n",
       "2  87357      46     17         1     F  Campo Valdes No.2         Manrique   \n",
       "\n",
       "  tipo_ss_ cod_ase_    fec_con_    ini_sin_  tip_cas_  pac_hos_  \\\n",
       "0        C   EPS005  2010-11-20  2010-11-20         4         2   \n",
       "1        C   EPS013  2010-11-16  2010-11-16         4         1   \n",
       "2        C     5000  2010-11-19  2010-11-18         4         2   \n",
       "\n",
       "                                     evento  year_  \n",
       "0  INTOXICACION POR SUSTANCIAS PSICOACTIVAS   2010  \n",
       "1  INTOXICACION POR SUSTANCIAS PSICOACTIVAS   2010  \n",
       "2  INTOXICACION POR SUSTANCIAS PSICOACTIVAS   2010  "
      ]
     },
     "execution_count": 2,
     "metadata": {},
     "output_type": "execute_result"
    }
   ],
   "source": [
    "# lectura de archivos en formato DataFrame\n",
    "file = pd.read_csv(\"intoxicacion_por_sustancias_psicoactivas.csv\",';')\n",
    "file.head(3)"
   ]
  },
  {
   "cell_type": "code",
   "execution_count": 3,
   "metadata": {},
   "outputs": [
    {
     "name": "stdout",
     "output_type": "stream",
     "text": [
      "RangeIndex(start=0, stop=5338, step=1)\n",
      "Index(['id', 'semana', 'edad_', 'uni_med_', 'sexo_', 'nombre_barrio', 'comuna',\n",
      "       'tipo_ss_', 'cod_ase_', 'fec_con_', 'ini_sin_', 'tip_cas_', 'pac_hos_',\n",
      "       'evento', 'year_'],\n",
      "      dtype='object')\n",
      "(5338, 15)\n"
     ]
    }
   ],
   "source": [
    "#Conocemos su cantidad de filas y el nombre de las columnas.\n",
    "print(file.index)\n",
    "print(file.columns)\n",
    "print(file.shape)"
   ]
  },
  {
   "cell_type": "code",
   "execution_count": 4,
   "metadata": {},
   "outputs": [],
   "source": [
    "# Eliminamos una barra de guión la cual estaba al final de cada nombre de los nombres de las columnas.\n",
    "file.rename(columns=lambda s:s.strip('_'),inplace=True)\n",
    "#file.head(3)"
   ]
  },
  {
   "cell_type": "code",
   "execution_count": 5,
   "metadata": {},
   "outputs": [],
   "source": [
    "# Nuestros indices serán los id para un mejor control de la base.\n",
    "file.index=file[\"id\"].values\n",
    "#file.head(3)"
   ]
  },
  {
   "cell_type": "code",
   "execution_count": 6,
   "metadata": {},
   "outputs": [
    {
     "data": {
      "text/html": [
       "<div>\n",
       "<style scoped>\n",
       "    .dataframe tbody tr th:only-of-type {\n",
       "        vertical-align: middle;\n",
       "    }\n",
       "\n",
       "    .dataframe tbody tr th {\n",
       "        vertical-align: top;\n",
       "    }\n",
       "\n",
       "    .dataframe thead th {\n",
       "        text-align: right;\n",
       "    }\n",
       "</style>\n",
       "<table border=\"1\" class=\"dataframe\">\n",
       "  <thead>\n",
       "    <tr style=\"text-align: right;\">\n",
       "      <th></th>\n",
       "      <th>semana</th>\n",
       "      <th>edad</th>\n",
       "      <th>uni_med</th>\n",
       "      <th>sexo</th>\n",
       "      <th>nombre_barrio</th>\n",
       "      <th>comuna</th>\n",
       "      <th>tipo_ss</th>\n",
       "      <th>cod_ase</th>\n",
       "      <th>fec_con</th>\n",
       "      <th>ini_sin</th>\n",
       "      <th>tip_cas</th>\n",
       "      <th>pac_hos</th>\n",
       "      <th>evento</th>\n",
       "      <th>year</th>\n",
       "    </tr>\n",
       "  </thead>\n",
       "  <tbody>\n",
       "    <tr>\n",
       "      <th>87355</th>\n",
       "      <td>46</td>\n",
       "      <td>32</td>\n",
       "      <td>1</td>\n",
       "      <td>M</td>\n",
       "      <td>El Poblado</td>\n",
       "      <td>El Poblado</td>\n",
       "      <td>C</td>\n",
       "      <td>EPS005</td>\n",
       "      <td>2010-11-20</td>\n",
       "      <td>2010-11-20</td>\n",
       "      <td>4</td>\n",
       "      <td>2</td>\n",
       "      <td>INTOXICACION POR SUSTANCIAS PSICOACTIVAS</td>\n",
       "      <td>2010</td>\n",
       "    </tr>\n",
       "    <tr>\n",
       "      <th>87356</th>\n",
       "      <td>46</td>\n",
       "      <td>36</td>\n",
       "      <td>1</td>\n",
       "      <td>F</td>\n",
       "      <td>SIN INFORMACION</td>\n",
       "      <td>SIN INFORMACION</td>\n",
       "      <td>C</td>\n",
       "      <td>EPS013</td>\n",
       "      <td>2010-11-16</td>\n",
       "      <td>2010-11-16</td>\n",
       "      <td>4</td>\n",
       "      <td>1</td>\n",
       "      <td>INTOXICACION POR SUSTANCIAS PSICOACTIVAS</td>\n",
       "      <td>2010</td>\n",
       "    </tr>\n",
       "    <tr>\n",
       "      <th>87357</th>\n",
       "      <td>46</td>\n",
       "      <td>17</td>\n",
       "      <td>1</td>\n",
       "      <td>F</td>\n",
       "      <td>Campo Valdes No.2</td>\n",
       "      <td>Manrique</td>\n",
       "      <td>C</td>\n",
       "      <td>5000</td>\n",
       "      <td>2010-11-19</td>\n",
       "      <td>2010-11-18</td>\n",
       "      <td>4</td>\n",
       "      <td>2</td>\n",
       "      <td>INTOXICACION POR SUSTANCIAS PSICOACTIVAS</td>\n",
       "      <td>2010</td>\n",
       "    </tr>\n",
       "  </tbody>\n",
       "</table>\n",
       "</div>"
      ],
      "text/plain": [
       "       semana  edad  uni_med sexo      nombre_barrio           comuna tipo_ss  \\\n",
       "87355      46    32        1    M         El Poblado       El Poblado       C   \n",
       "87356      46    36        1    F    SIN INFORMACION  SIN INFORMACION       C   \n",
       "87357      46    17        1    F  Campo Valdes No.2         Manrique       C   \n",
       "\n",
       "      cod_ase     fec_con     ini_sin  tip_cas  pac_hos  \\\n",
       "87355  EPS005  2010-11-20  2010-11-20        4        2   \n",
       "87356  EPS013  2010-11-16  2010-11-16        4        1   \n",
       "87357    5000  2010-11-19  2010-11-18        4        2   \n",
       "\n",
       "                                         evento  year  \n",
       "87355  INTOXICACION POR SUSTANCIAS PSICOACTIVAS  2010  \n",
       "87356  INTOXICACION POR SUSTANCIAS PSICOACTIVAS  2010  \n",
       "87357  INTOXICACION POR SUSTANCIAS PSICOACTIVAS  2010  "
      ]
     },
     "execution_count": 6,
     "metadata": {},
     "output_type": "execute_result"
    }
   ],
   "source": [
    "# Eliminamos la columna id ya que tenemos nuestros indices.\n",
    "file.drop(['id'], axis=1).head(3)"
   ]
  },
  {
   "cell_type": "code",
   "execution_count": 7,
   "metadata": {},
   "outputs": [
    {
     "data": {
      "text/html": [
       "<div>\n",
       "<style scoped>\n",
       "    .dataframe tbody tr th:only-of-type {\n",
       "        vertical-align: middle;\n",
       "    }\n",
       "\n",
       "    .dataframe tbody tr th {\n",
       "        vertical-align: top;\n",
       "    }\n",
       "\n",
       "    .dataframe thead th {\n",
       "        text-align: right;\n",
       "    }\n",
       "</style>\n",
       "<table border=\"1\" class=\"dataframe\">\n",
       "  <thead>\n",
       "    <tr style=\"text-align: right;\">\n",
       "      <th></th>\n",
       "      <th>sexo</th>\n",
       "      <th>nombre_barrio</th>\n",
       "    </tr>\n",
       "  </thead>\n",
       "  <tbody>\n",
       "    <tr>\n",
       "      <th>87355</th>\n",
       "      <td>M</td>\n",
       "      <td>El Poblado</td>\n",
       "    </tr>\n",
       "    <tr>\n",
       "      <th>87356</th>\n",
       "      <td>F</td>\n",
       "      <td>SIN INFORMACION</td>\n",
       "    </tr>\n",
       "    <tr>\n",
       "      <th>87357</th>\n",
       "      <td>F</td>\n",
       "      <td>Campo Valdes No.2</td>\n",
       "    </tr>\n",
       "    <tr>\n",
       "      <th>87379</th>\n",
       "      <td>F</td>\n",
       "      <td>Los Angeles</td>\n",
       "    </tr>\n",
       "    <tr>\n",
       "      <th>87397</th>\n",
       "      <td>F</td>\n",
       "      <td>SIN INFORMACION</td>\n",
       "    </tr>\n",
       "    <tr>\n",
       "      <th>...</th>\n",
       "      <td>...</td>\n",
       "      <td>...</td>\n",
       "    </tr>\n",
       "    <tr>\n",
       "      <th>119676</th>\n",
       "      <td>M</td>\n",
       "      <td>Andalucía</td>\n",
       "    </tr>\n",
       "    <tr>\n",
       "      <th>119681</th>\n",
       "      <td>F</td>\n",
       "      <td>Trinidad</td>\n",
       "    </tr>\n",
       "    <tr>\n",
       "      <th>119686</th>\n",
       "      <td>M</td>\n",
       "      <td>Laureles</td>\n",
       "    </tr>\n",
       "    <tr>\n",
       "      <th>119707</th>\n",
       "      <td>M</td>\n",
       "      <td>La América</td>\n",
       "    </tr>\n",
       "    <tr>\n",
       "      <th>119757</th>\n",
       "      <td>F</td>\n",
       "      <td>Pajarito</td>\n",
       "    </tr>\n",
       "  </tbody>\n",
       "</table>\n",
       "<p>5338 rows × 2 columns</p>\n",
       "</div>"
      ],
      "text/plain": [
       "       sexo      nombre_barrio\n",
       "87355     M         El Poblado\n",
       "87356     F    SIN INFORMACION\n",
       "87357     F  Campo Valdes No.2\n",
       "87379     F        Los Angeles\n",
       "87397     F    SIN INFORMACION\n",
       "...     ...                ...\n",
       "119676    M          Andalucía\n",
       "119681    F           Trinidad\n",
       "119686    M           Laureles\n",
       "119707    M         La América\n",
       "119757    F           Pajarito\n",
       "\n",
       "[5338 rows x 2 columns]"
      ]
     },
     "execution_count": 7,
     "metadata": {},
     "output_type": "execute_result"
    }
   ],
   "source": [
    "# Encontrar correlacion entre sexo y barrios.\n",
    "file[['sexo','nombre_barrio']]"
   ]
  },
  {
   "cell_type": "code",
   "execution_count": 8,
   "metadata": {},
   "outputs": [
    {
     "data": {
      "text/plain": [
       "<matplotlib.axes._subplots.AxesSubplot at 0x1e48fdc3250>"
      ]
     },
     "execution_count": 8,
     "metadata": {},
     "output_type": "execute_result"
    },
    {
     "data": {
      "image/png": "[encoded data removed]",
      "text/plain": [
       "<Figure size 432x288 with 1 Axes>"
      ]
     },
     "metadata": {},
     "output_type": "display_data"
    }
   ],
   "source": [
    "# Diagrama de cajas y bigotes con respecto a la edad, datos promedio [20,40]\n",
    "sns.boxplot(file['edad'])"
   ]
  },
  {
   "cell_type": "code",
   "execution_count": 9,
   "metadata": {},
   "outputs": [
    {
     "data": {
      "text/plain": [
       "[Text(0, 0.5, 'Frecuencia'), Text(0.5, 0, 'Distribution normal')]"
      ]
     },
     "execution_count": 9,
     "metadata": {},
     "output_type": "execute_result"
    },
    {
     "data": {
      "image/png": "[encoded data removed]",
      "text/plain": [
       "<Figure size 432x288 with 1 Axes>"
      ]
     },
     "metadata": {},
     "output_type": "display_data"
    }
   ],
   "source": [
    "Distri = sns.distplot(file['edad'],\n",
    "                  bins=20,\n",
    "                  kde=True,\n",
    "                  color='red',\n",
    "                  hist_kws={\"linewidth\": 10,'alpha':1})\n",
    "Distri.set(xlabel='Distribution normal', ylabel='Frecuencia')"
   ]
  },
  {
   "cell_type": "code",
   "execution_count": 10,
   "metadata": {},
   "outputs": [
    {
     "data": {
      "text/plain": [
       "Ttest_indResult(statistic=3.009533547909345, pvalue=0.002628721625143908)"
      ]
     },
     "execution_count": 10,
     "metadata": {},
     "output_type": "execute_result"
    }
   ],
   "source": [
    "#Existe significancia de genero con respecto al año?\n",
    "scipy.stats.ttest_ind(file[file['sexo'] == 'F']['year'],\n",
    "                        file[file['sexo'] == 'M']['year'], equal_var = True)\n"
   ]
  },
  {
   "cell_type": "code",
   "execution_count": 11,
   "metadata": {
    "scrolled": true
   },
   "outputs": [
    {
     "data": {
      "text/html": [
       "<div>\n",
       "<style scoped>\n",
       "    .dataframe tbody tr th:only-of-type {\n",
       "        vertical-align: middle;\n",
       "    }\n",
       "\n",
       "    .dataframe tbody tr th {\n",
       "        vertical-align: top;\n",
       "    }\n",
       "\n",
       "    .dataframe thead th {\n",
       "        text-align: right;\n",
       "    }\n",
       "</style>\n",
       "<table border=\"1\" class=\"dataframe\">\n",
       "  <thead>\n",
       "    <tr style=\"text-align: right;\">\n",
       "      <th></th>\n",
       "      <th>comuna</th>\n",
       "    </tr>\n",
       "  </thead>\n",
       "  <tbody>\n",
       "    <tr>\n",
       "      <th>87356</th>\n",
       "      <td>SIN INFORMACION</td>\n",
       "    </tr>\n",
       "    <tr>\n",
       "      <th>87357</th>\n",
       "      <td>Manrique</td>\n",
       "    </tr>\n",
       "    <tr>\n",
       "      <th>87379</th>\n",
       "      <td>La Candelaria</td>\n",
       "    </tr>\n",
       "    <tr>\n",
       "      <th>87397</th>\n",
       "      <td>SIN INFORMACION</td>\n",
       "    </tr>\n",
       "    <tr>\n",
       "      <th>87807</th>\n",
       "      <td>Robledo</td>\n",
       "    </tr>\n",
       "    <tr>\n",
       "      <th>...</th>\n",
       "      <td>...</td>\n",
       "    </tr>\n",
       "    <tr>\n",
       "      <th>119337</th>\n",
       "      <td>Manrique</td>\n",
       "    </tr>\n",
       "    <tr>\n",
       "      <th>119449</th>\n",
       "      <td>Robledo</td>\n",
       "    </tr>\n",
       "    <tr>\n",
       "      <th>119629</th>\n",
       "      <td>Villa Hermosa</td>\n",
       "    </tr>\n",
       "    <tr>\n",
       "      <th>119681</th>\n",
       "      <td>Guayabal</td>\n",
       "    </tr>\n",
       "    <tr>\n",
       "      <th>119757</th>\n",
       "      <td>Robledo</td>\n",
       "    </tr>\n",
       "  </tbody>\n",
       "</table>\n",
       "<p>1616 rows × 1 columns</p>\n",
       "</div>"
      ],
      "text/plain": [
       "                 comuna\n",
       "87356   SIN INFORMACION\n",
       "87357          Manrique\n",
       "87379     La Candelaria\n",
       "87397   SIN INFORMACION\n",
       "87807           Robledo\n",
       "...                 ...\n",
       "119337         Manrique\n",
       "119449          Robledo\n",
       "119629    Villa Hermosa\n",
       "119681         Guayabal\n",
       "119757          Robledo\n",
       "\n",
       "[1616 rows x 1 columns]"
      ]
     },
     "execution_count": 11,
     "metadata": {},
     "output_type": "execute_result"
    }
   ],
   "source": [
    "# existe significancia de genero con respecto a la comuna?\n",
    "Comunas_mujeres = pd.DataFrame(file[file['sexo'] == 'F']['comuna'])\n",
    "Comunas_hombres = pd.DataFrame(file[file['sexo'] == 'M']['comuna'])\n",
    "Comunas_mujeres"
   ]
  },
  {
   "cell_type": "code",
   "execution_count": 12,
   "metadata": {},
   "outputs": [],
   "source": [
    "Arreglo1 = Comunas_mujeres['comuna'].value_counts()\n",
    "Arreglo2 = Comunas_hombres['comuna'].value_counts()\n",
    "Vizualization1 = pd.DataFrame(Comunas_mujeres['comuna'].value_counts())\n",
    "Vizualization2 = pd.DataFrame(Comunas_hombres['comuna'].value_counts())\n",
    "A=list(Vizualization1.index)\n",
    "B=list(Vizualization2.index)"
   ]
  },
  {
   "cell_type": "code",
   "execution_count": 13,
   "metadata": {},
   "outputs": [
    {
     "data": {
      "image/png": "[encoded data removed]",
      "text/plain": [
       "<Figure size 432x288 with 2 Axes>"
      ]
     },
     "metadata": {},
     "output_type": "display_data"
    }
   ],
   "source": [
    "plt.subplot(1,2,1)\n",
    "plt.hist(Arreglo1)\n",
    "\n",
    "plt.subplot(1,2,2)\n",
    "plt.hist(Arreglo2)\n",
    "\n",
    "plt.tight_layout()\n",
    "plt.show()"
   ]
  },
  {
   "cell_type": "code",
   "execution_count": 14,
   "metadata": {},
   "outputs": [
    {
     "name": "stderr",
     "output_type": "stream",
     "text": [
      "<ipython-input-14-1ead2a3467fa>:4: MatplotlibDeprecationWarning: Adding an axes using the same arguments as a previous axes currently reuses the earlier instance.  In a future version, a new instance will always be created and returned.  Meanwhile, this warning can be suppressed, and the future behavior ensured, by passing a unique label to each axes instance.\n",
      "  plt.subplot(1,2,1)\n"
     ]
    },
    {
     "data": {
      "image/png": "[encoded data removed]",
      "text/plain": [
       "<Figure size 432x288 with 1 Axes>"
      ]
     },
     "metadata": {},
     "output_type": "display_data"
    }
   ],
   "source": [
    "plt.subplot(1,2,1)\n",
    "plt.plot(Arreglo1,A,'g')\n",
    "\n",
    "plt.subplot(1,2,1)\n",
    "plt.plot(Arreglo2,B,'k')\n",
    "\n",
    "#Grafico verde mujeres, grafico negro hombres.\n",
    "plt.show()"
   ]
  },
  {
   "cell_type": "markdown",
   "metadata": {},
   "source": [
    "---\n",
    "\n",
    "Veamos la proporción total de personas intoxicadas separadas por su género:"
   ]
  },
  {
   "cell_type": "code",
   "execution_count": 15,
   "metadata": {},
   "outputs": [
    {
     "data": {
      "image/png": "[encoded data removed]",
      "text/plain": [
       "<Figure size 432x288 with 1 Axes>"
      ]
     },
     "metadata": {},
     "output_type": "display_data"
    }
   ],
   "source": [
    "# Proporcion total de hombres y mujeres intoxicados registrados\n",
    "\n",
    "datapie = [len(file[file['sexo'] == 'M']), len(file[file['sexo'] == 'F'])]\n",
    "labels = ['hombres', 'mujeres']\n",
    "colors = sns.color_palette('pastel')[0:2]\n",
    "plt.pie(datapie, labels=labels, colors=colors, autopct='%.3f%%', radius=1.5); plt.show()"
   ]
  },
  {
   "cell_type": "markdown",
   "metadata": {},
   "source": [
    "Una breve descripción de los datos estadísticos de interés sobre la edad de la población es:"
   ]
  },
  {
   "cell_type": "code",
   "execution_count": 16,
   "metadata": {},
   "outputs": [
    {
     "data": {
      "text/plain": [
       "count    5338.000000\n",
       "mean       31.091795\n",
       "std        13.888775\n",
       "min         1.000000\n",
       "25%        21.000000\n",
       "50%        28.000000\n",
       "75%        38.000000\n",
       "max        91.000000\n",
       "Name: edad, dtype: float64"
      ]
     },
     "execution_count": 16,
     "metadata": {},
     "output_type": "execute_result"
    }
   ],
   "source": [
    "# Resumen estadistico de las edades de los intoxicados\n",
    "file['edad'].describe()"
   ]
  },
  {
   "cell_type": "markdown",
   "metadata": {},
   "source": [
    "---\n",
    "\n",
    "* Para poder diferenciar los rangos de edad para cada año de las personas que han sufrido intoxicación por consumo de sustancias psicoactivas se tiene el siguiente gráfico:"
   ]
  },
  {
   "cell_type": "code",
   "execution_count": 17,
   "metadata": {
    "scrolled": true
   },
   "outputs": [
    {
     "data": {
      "text/plain": [
       "<matplotlib.axes._subplots.AxesSubplot at 0x1e49078c700>"
      ]
     },
     "execution_count": 17,
     "metadata": {},
     "output_type": "execute_result"
    },
    {
     "data": {
      "image/png": "[encoded data removed]",
      "text/plain": [
       "<Figure size 432x288 with 1 Axes>"
      ]
     },
     "metadata": {},
     "output_type": "display_data"
    }
   ],
   "source": [
    "# Densidad de edad entre hombres y mujeres intoxicados para cada año\n",
    "#sns.set_theme()\n",
    "sns.lineplot(data=file, x=\"year\", y=\"edad\", hue='sexo')"
   ]
  },
  {
   "cell_type": "markdown",
   "metadata": {},
   "source": [
    "Se ha encontrado en general un mayor rango de edades entre las mujeres que han sufrido este tipo de intoxicación presentando una mayor diferencia de edad hacia el año 2012. Por otro lado, la población masculina presenta en general un menor rango de edades para cada año, presentando edades que no se alejan tanto de la media.\n",
    "\n",
    "La linea central representa la estimación de la media, las bandas inferior y superior son el intervalo de confianza para la media, con un 95% de confianza."
   ]
  },
  {
   "cell_type": "markdown",
   "metadata": {},
   "source": [
    "---\n",
    "\n",
    "* Veamos ahora la cantidad de hombres y mujeres intoxicados cada año, visualizaremos el aumento o disminución de los casos para cada año:"
   ]
  },
  {
   "cell_type": "code",
   "execution_count": 18,
   "metadata": {},
   "outputs": [],
   "source": [
    "years = []; years_r = []; sexo = []; cantidad = []\n",
    "\n",
    "for y in file['year']:\n",
    "    if years_r.count(y) < 2:\n",
    "        years_r.append(y)\n",
    "    if y not in years:\n",
    "        years.append(y)\n",
    "        sexo.append('M')\n",
    "        sexo.append('F')\n",
    "\n",
    "for y1 in years:\n",
    "    cantidad.append(len(file[(file['year'] == y1) & (file['sexo'] == 'M')]))\n",
    "    cantidad.append(len(file[(file['year'] == y1) & (file['sexo'] == 'F')]))"
   ]
  },
  {
   "cell_type": "code",
   "execution_count": 19,
   "metadata": {},
   "outputs": [
    {
     "data": {
      "text/html": [
       "<div>\n",
       "<style scoped>\n",
       "    .dataframe tbody tr th:only-of-type {\n",
       "        vertical-align: middle;\n",
       "    }\n",
       "\n",
       "    .dataframe tbody tr th {\n",
       "        vertical-align: top;\n",
       "    }\n",
       "\n",
       "    .dataframe thead th {\n",
       "        text-align: right;\n",
       "    }\n",
       "</style>\n",
       "<table border=\"1\" class=\"dataframe\">\n",
       "  <thead>\n",
       "    <tr style=\"text-align: right;\">\n",
       "      <th></th>\n",
       "      <th>year</th>\n",
       "      <th>sexo</th>\n",
       "      <th>cantidad</th>\n",
       "    </tr>\n",
       "  </thead>\n",
       "  <tbody>\n",
       "    <tr>\n",
       "      <th>0</th>\n",
       "      <td>2010</td>\n",
       "      <td>M</td>\n",
       "      <td>84</td>\n",
       "    </tr>\n",
       "    <tr>\n",
       "      <th>1</th>\n",
       "      <td>2010</td>\n",
       "      <td>F</td>\n",
       "      <td>23</td>\n",
       "    </tr>\n",
       "    <tr>\n",
       "      <th>2</th>\n",
       "      <td>2011</td>\n",
       "      <td>M</td>\n",
       "      <td>158</td>\n",
       "    </tr>\n",
       "    <tr>\n",
       "      <th>3</th>\n",
       "      <td>2011</td>\n",
       "      <td>F</td>\n",
       "      <td>67</td>\n",
       "    </tr>\n",
       "    <tr>\n",
       "      <th>4</th>\n",
       "      <td>2012</td>\n",
       "      <td>M</td>\n",
       "      <td>326</td>\n",
       "    </tr>\n",
       "    <tr>\n",
       "      <th>5</th>\n",
       "      <td>2012</td>\n",
       "      <td>F</td>\n",
       "      <td>117</td>\n",
       "    </tr>\n",
       "    <tr>\n",
       "      <th>6</th>\n",
       "      <td>2013</td>\n",
       "      <td>M</td>\n",
       "      <td>247</td>\n",
       "    </tr>\n",
       "    <tr>\n",
       "      <th>7</th>\n",
       "      <td>2013</td>\n",
       "      <td>F</td>\n",
       "      <td>82</td>\n",
       "    </tr>\n",
       "    <tr>\n",
       "      <th>8</th>\n",
       "      <td>2014</td>\n",
       "      <td>M</td>\n",
       "      <td>439</td>\n",
       "    </tr>\n",
       "    <tr>\n",
       "      <th>9</th>\n",
       "      <td>2014</td>\n",
       "      <td>F</td>\n",
       "      <td>176</td>\n",
       "    </tr>\n",
       "    <tr>\n",
       "      <th>10</th>\n",
       "      <td>2015</td>\n",
       "      <td>M</td>\n",
       "      <td>403</td>\n",
       "    </tr>\n",
       "    <tr>\n",
       "      <th>11</th>\n",
       "      <td>2015</td>\n",
       "      <td>F</td>\n",
       "      <td>184</td>\n",
       "    </tr>\n",
       "    <tr>\n",
       "      <th>12</th>\n",
       "      <td>2016</td>\n",
       "      <td>M</td>\n",
       "      <td>433</td>\n",
       "    </tr>\n",
       "    <tr>\n",
       "      <th>13</th>\n",
       "      <td>2016</td>\n",
       "      <td>F</td>\n",
       "      <td>224</td>\n",
       "    </tr>\n",
       "    <tr>\n",
       "      <th>14</th>\n",
       "      <td>2017</td>\n",
       "      <td>M</td>\n",
       "      <td>496</td>\n",
       "    </tr>\n",
       "    <tr>\n",
       "      <th>15</th>\n",
       "      <td>2017</td>\n",
       "      <td>F</td>\n",
       "      <td>225</td>\n",
       "    </tr>\n",
       "    <tr>\n",
       "      <th>16</th>\n",
       "      <td>2018</td>\n",
       "      <td>M</td>\n",
       "      <td>512</td>\n",
       "    </tr>\n",
       "    <tr>\n",
       "      <th>17</th>\n",
       "      <td>2018</td>\n",
       "      <td>F</td>\n",
       "      <td>223</td>\n",
       "    </tr>\n",
       "    <tr>\n",
       "      <th>18</th>\n",
       "      <td>2019</td>\n",
       "      <td>M</td>\n",
       "      <td>624</td>\n",
       "    </tr>\n",
       "    <tr>\n",
       "      <th>19</th>\n",
       "      <td>2019</td>\n",
       "      <td>F</td>\n",
       "      <td>295</td>\n",
       "    </tr>\n",
       "  </tbody>\n",
       "</table>\n",
       "</div>"
      ],
      "text/plain": [
       "    year sexo  cantidad\n",
       "0   2010    M        84\n",
       "1   2010    F        23\n",
       "2   2011    M       158\n",
       "3   2011    F        67\n",
       "4   2012    M       326\n",
       "5   2012    F       117\n",
       "6   2013    M       247\n",
       "7   2013    F        82\n",
       "8   2014    M       439\n",
       "9   2014    F       176\n",
       "10  2015    M       403\n",
       "11  2015    F       184\n",
       "12  2016    M       433\n",
       "13  2016    F       224\n",
       "14  2017    M       496\n",
       "15  2017    F       225\n",
       "16  2018    M       512\n",
       "17  2018    F       223\n",
       "18  2019    M       624\n",
       "19  2019    F       295"
      ]
     },
     "execution_count": 19,
     "metadata": {},
     "output_type": "execute_result"
    }
   ],
   "source": [
    "dataMF = {'year':years_r, 'sexo':sexo, 'cantidad':cantidad}\n",
    "df_dataMF = pd.DataFrame(dataMF)\n",
    "df_dataMF"
   ]
  },
  {
   "cell_type": "code",
   "execution_count": 20,
   "metadata": {},
   "outputs": [
    {
     "data": {
      "text/plain": [
       "Text(0.5, 1.0, 'cantidad de intoxicados por año')"
      ]
     },
     "execution_count": 20,
     "metadata": {},
     "output_type": "execute_result"
    },
    {
     "data": {
      "image/png": "[encoded data removed]",
      "text/plain": [
       "<Figure size 432x288 with 1 Axes>"
      ]
     },
     "metadata": {},
     "output_type": "display_data"
    }
   ],
   "source": [
    "sns.lineplot(data=df_dataMF, x=\"year\", y=\"cantidad\", hue='sexo'); plt.title('cantidad de intoxicados por año')"
   ]
  },
  {
   "cell_type": "markdown",
   "metadata": {},
   "source": [
    "Vemos que los registros de intoxicaciones presentan un aumento respecto a los años anteriores, teniendo únicamente un decrecimiento considerable hacia el año 2013."
   ]
  },
  {
   "cell_type": "markdown",
   "metadata": {},
   "source": [
    "---\n",
    "\n",
    "* Veamos la densidad de casos discretizada por sexo y edad, para la concentración hacia el 50% de registros que se tienen de los casos:"
   ]
  },
  {
   "cell_type": "code",
   "execution_count": 21,
   "metadata": {},
   "outputs": [
    {
     "data": {
      "text/plain": [
       "<matplotlib.axes._subplots.AxesSubplot at 0x1e4908fa940>"
      ]
     },
     "execution_count": 21,
     "metadata": {},
     "output_type": "execute_result"
    },
    {
     "data": {
      "image/png": "[encoded data removed]",
      "text/plain": [
       "<Figure size 432x288 with 1 Axes>"
      ]
     },
     "metadata": {},
     "output_type": "display_data"
    }
   ],
   "source": [
    "sns.boxplot(x='sexo', y='edad', data=file)"
   ]
  },
  {
   "cell_type": "code",
   "execution_count": 22,
   "metadata": {},
   "outputs": [
    {
     "data": {
      "text/plain": [
       "<matplotlib.axes._subplots.AxesSubplot at 0x1e49094f9a0>"
      ]
     },
     "execution_count": 22,
     "metadata": {},
     "output_type": "execute_result"
    },
    {
     "data": {
      "image/png": "[encoded data removed]",
      "text/plain": [
       "<Figure size 432x288 with 1 Axes>"
      ]
     },
     "metadata": {},
     "output_type": "display_data"
    }
   ],
   "source": [
    "sns.distplot(file['edad'], bins = 25, hist=True, kde=False, rug=True, norm_hist=True)"
   ]
  },
  {
   "cell_type": "markdown",
   "metadata": {},
   "source": [
    "sns.pairplot(file, hue = 'sexo')"
   ]
  },
  {
   "cell_type": "code",
   "execution_count": 23,
   "metadata": {},
   "outputs": [
    {
     "data": {
      "text/html": [
       "<div>\n",
       "<style scoped>\n",
       "    .dataframe tbody tr th:only-of-type {\n",
       "        vertical-align: middle;\n",
       "    }\n",
       "\n",
       "    .dataframe tbody tr th {\n",
       "        vertical-align: top;\n",
       "    }\n",
       "\n",
       "    .dataframe thead th {\n",
       "        text-align: right;\n",
       "    }\n",
       "</style>\n",
       "<table border=\"1\" class=\"dataframe\">\n",
       "  <thead>\n",
       "    <tr style=\"text-align: right;\">\n",
       "      <th></th>\n",
       "      <th>tip_cas</th>\n",
       "      <th>comuna</th>\n",
       "    </tr>\n",
       "  </thead>\n",
       "  <tbody>\n",
       "    <tr>\n",
       "      <th>87355</th>\n",
       "      <td>4</td>\n",
       "      <td>El Poblado</td>\n",
       "    </tr>\n",
       "    <tr>\n",
       "      <th>87356</th>\n",
       "      <td>4</td>\n",
       "      <td>SIN INFORMACION</td>\n",
       "    </tr>\n",
       "    <tr>\n",
       "      <th>87357</th>\n",
       "      <td>4</td>\n",
       "      <td>Manrique</td>\n",
       "    </tr>\n",
       "    <tr>\n",
       "      <th>87379</th>\n",
       "      <td>4</td>\n",
       "      <td>La Candelaria</td>\n",
       "    </tr>\n",
       "    <tr>\n",
       "      <th>87397</th>\n",
       "      <td>4</td>\n",
       "      <td>SIN INFORMACION</td>\n",
       "    </tr>\n",
       "    <tr>\n",
       "      <th>...</th>\n",
       "      <td>...</td>\n",
       "      <td>...</td>\n",
       "    </tr>\n",
       "    <tr>\n",
       "      <th>119676</th>\n",
       "      <td>4</td>\n",
       "      <td>Santa Cruz</td>\n",
       "    </tr>\n",
       "    <tr>\n",
       "      <th>119681</th>\n",
       "      <td>4</td>\n",
       "      <td>Guayabal</td>\n",
       "    </tr>\n",
       "    <tr>\n",
       "      <th>119686</th>\n",
       "      <td>4</td>\n",
       "      <td>Laureles</td>\n",
       "    </tr>\n",
       "    <tr>\n",
       "      <th>119707</th>\n",
       "      <td>4</td>\n",
       "      <td>La America</td>\n",
       "    </tr>\n",
       "    <tr>\n",
       "      <th>119757</th>\n",
       "      <td>4</td>\n",
       "      <td>Robledo</td>\n",
       "    </tr>\n",
       "  </tbody>\n",
       "</table>\n",
       "<p>5338 rows × 2 columns</p>\n",
       "</div>"
      ],
      "text/plain": [
       "        tip_cas           comuna\n",
       "87355         4       El Poblado\n",
       "87356         4  SIN INFORMACION\n",
       "87357         4         Manrique\n",
       "87379         4    La Candelaria\n",
       "87397         4  SIN INFORMACION\n",
       "...         ...              ...\n",
       "119676        4       Santa Cruz\n",
       "119681        4         Guayabal\n",
       "119686        4         Laureles\n",
       "119707        4       La America\n",
       "119757        4          Robledo\n",
       "\n",
       "[5338 rows x 2 columns]"
      ]
     },
     "execution_count": 23,
     "metadata": {},
     "output_type": "execute_result"
    }
   ],
   "source": [
    "file[[\"tip_cas\",\"comuna\"]]"
   ]
  },
  {
   "cell_type": "code",
   "execution_count": 24,
   "metadata": {},
   "outputs": [
    {
     "data": {
      "text/plain": [
       "383"
      ]
     },
     "execution_count": 24,
     "metadata": {},
     "output_type": "execute_result"
    }
   ],
   "source": [
    "Tipo_No = list(file[\"tipo_ss\"])\n",
    "Tipo_Com = list(file[\"comuna\"])\n",
    "save_type=[]\n",
    "save_comuna=[]\n",
    "for i in range(len(Tipo_No)):\n",
    "    if Tipo_No[i]=='N':\n",
    "        save_type.append(Tipo_No[i])\n",
    "        save_comuna.append(Tipo_Com[i])\n",
    "        \n",
    "Guardar_poblado_infectados=0\n",
    "for k in range(len(Tipo_Com)):\n",
    "    if Tipo_Com[k]==\"El Poblado\":\n",
    "        Guardar_poblado_infectados+=1\n",
    "Guardar_poblado_infectados"
   ]
  },
  {
   "cell_type": "code",
   "execution_count": 25,
   "metadata": {
    "scrolled": true
   },
   "outputs": [
    {
     "data": {
      "text/plain": [
       "El Poblado                        88\n",
       "SIN INFORMACION                   84\n",
       "Buenos Aires                      69\n",
       "Villa Hermosa                     62\n",
       "Popular                           53\n",
       "La Candelaria                     53\n",
       "Manrique                          40\n",
       "Robledo                           39\n",
       "SIN UBICACION EN ZONA URBANA      39\n",
       "Aranjuez                          34\n",
       "Castilla                          31\n",
       "Belen                             29\n",
       "San Antonio de Prado              23\n",
       "Doce de Octubre                   23\n",
       "Santa Cruz                        21\n",
       "Guayabal                          20\n",
       "San Javier                        18\n",
       "Laureles                          16\n",
       "Corregimiento de San Cristobal    15\n",
       "La America                        10\n",
       "Corregimiento De Santa Elena       4\n",
       "SIN UBICACIoN EN ZONA URBANA       3\n",
       "Altavista                          1\n",
       "Santa elena                        1\n",
       "Name: Comuna, dtype: int64"
      ]
     },
     "execution_count": 25,
     "metadata": {},
     "output_type": "execute_result"
    }
   ],
   "source": [
    "Dt_No= pd.DataFrame((save_type),columns=[\"No asegurado\"])\n",
    "Dt_No[\"Comuna\"]=save_comuna\n",
    "Enlistadas_las_comunas_sin_seguro = Dt_No[\"Comuna\"].value_counts()\n",
    "Enlistadas_las_comunas_sin_seguro"
   ]
  },
  {
   "cell_type": "code",
   "execution_count": 26,
   "metadata": {},
   "outputs": [
    {
     "data": {
      "text/plain": [
       "0.2297650130548303"
      ]
     },
     "execution_count": 26,
     "metadata": {},
     "output_type": "execute_result"
    }
   ],
   "source": [
    "proporcion_poblado = list(Enlistadas_las_comunas_sin_seguro)[0]/Guardar_poblado_infectados\n",
    "proporcion_poblado\n",
    "#El 22% de los infectados en el barrio más turistico de medellín y con mejor estrato no poseen un sistema de salud estable"
   ]
  },
  {
   "cell_type": "code",
   "execution_count": 27,
   "metadata": {},
   "outputs": [],
   "source": [
    "save_type2=[]\n",
    "save_comuna2=[]\n",
    "for h in range(len(Tipo_No)):\n",
    "    if Tipo_No[h]=='C':\n",
    "        save_type2.append(Tipo_No[h])\n",
    "        save_comuna2.append(Tipo_Com[h])\n",
    "        "
   ]
  },
  {
   "cell_type": "code",
   "execution_count": 28,
   "metadata": {},
   "outputs": [
    {
     "data": {
      "text/plain": [
       "El Poblado                        250\n",
       "Robledo                           238\n",
       "Belen                             237\n",
       "Buenos Aires                      192\n",
       "La Candelaria                     174\n",
       "Manrique                          161\n",
       "Aranjuez                          160\n",
       "Laureles                          154\n",
       "Villa Hermosa                     152\n",
       "Doce de Octubre                   144\n",
       "San Javier                        122\n",
       "Castilla                          122\n",
       "Popular                           118\n",
       "Guayabal                          114\n",
       "SIN UBICACION EN ZONA URBANA      114\n",
       "SIN INFORMACION                   107\n",
       "San Antonio de Prado              100\n",
       "La America                         89\n",
       "Santa Cruz                         84\n",
       "Corregimiento de San Cristobal     63\n",
       "Altavista                          29\n",
       "SIN UBICACIoN EN ZONA URBANA       27\n",
       "Corregimiento De Santa Elena        8\n",
       "Santa elena                         4\n",
       "Name: Comuna, dtype: int64"
      ]
     },
     "execution_count": 28,
     "metadata": {},
     "output_type": "execute_result"
    }
   ],
   "source": [
    "Dt_con= pd.DataFrame((save_type2),columns=[\"Asegurado\"])\n",
    "Dt_con[\"Comuna\"]=save_comuna2\n",
    "Dt_con[\"Comuna\"].value_counts()\n",
    "\n",
    "# Asegurados con respecto a la comuna."
   ]
  },
  {
   "cell_type": "code",
   "execution_count": 29,
   "metadata": {},
   "outputs": [
    {
     "data": {
      "text/plain": [
       "(338, 1)"
      ]
     },
     "execution_count": 29,
     "metadata": {},
     "output_type": "execute_result"
    }
   ],
   "source": [
    "Tipo_No = list(file[\"tipo_ss\"])\n",
    "Tipo_Com = list(file[\"comuna\"])\n",
    "save_type_poblado=[]\n",
    "save_type_poblado_otros=[]\n",
    "#save_poblado=[]\n",
    "for i in range(len(Tipo_No)):\n",
    "    if Tipo_Com[i]==\"El Poblado\":\n",
    "        if (Tipo_No[i]=='N')or(Tipo_No[i]==\"C\"):\n",
    "            save_type_poblado.append(Tipo_No[i])\n",
    "            \n",
    "for m in range(len(Tipo_No)):\n",
    "    if Tipo_Com[m]==\"El Poblado\":\n",
    "        if (Tipo_No[m]=='S')or(Tipo_No[m]==\"P\")or(Tipo_No[m]==\"E\")or(Tipo_No[m]==\"I\")or(Tipo_No[m]==\"SD\"):\n",
    "            save_type_poblado_otros.append(Tipo_No[m])\n",
    "Data_poblado = pd.DataFrame((save_type_poblado),columns=[\"Con o sin seguro\"])\n",
    "Data_poblado_otros= pd.DataFrame((save_type_poblado_otros),columns=[\"Otros\"])\n",
    "Data_poblado.shape "
   ]
  },
  {
   "cell_type": "markdown",
   "metadata": {},
   "source": [
    "**Podemos notar que de los 383,  338 pertenecen al grupo Con seguro o sin seguro, teniendo así una mayor proporcion de personas aseguradas en medellín, a la vez que personas no aseguradas.**"
   ]
  },
  {
   "cell_type": "code",
   "execution_count": 30,
   "metadata": {},
   "outputs": [
    {
     "data": {
      "image/png": "[encoded data removed]",
      "text/plain": [
       "<Figure size 432x288 with 1 Axes>"
      ]
     },
     "metadata": {},
     "output_type": "display_data"
    }
   ],
   "source": [
    "datapie_NO = [len(Data_poblado[Data_poblado['Con o sin seguro'] == 'N']), len(Data_poblado[Data_poblado['Con o sin seguro'] == 'C']),\n",
    "              len(Data_poblado_otros[Data_poblado_otros[\"Otros\"]==\"S\"]),\n",
    "             len(Data_poblado_otros[Data_poblado_otros[\"Otros\"]==\"I\"]),\n",
    "             len(Data_poblado_otros[Data_poblado_otros[\"Otros\"]==\"E\"])]\n",
    "labels_NO = ['No asegurados', 'Asegurados',\"Subsidiado\",\"Indeterminado\",\"Especial\"]\n",
    "colors_NO = sns.color_palette('pastel')[0:9]\n",
    "plt.pie(datapie_NO, labels=labels_NO, colors=colors_NO, autopct='%.3f%%', radius=1.5)\n",
    "plt.savefig('Porcentaje_ss_poblado', dpi=300,bbox_inches='tight')\n",
    "plt.show()"
   ]
  },
  {
   "cell_type": "code",
   "execution_count": 31,
   "metadata": {},
   "outputs": [
    {
     "data": {
      "text/plain": [
       "87420     52\n",
       "87470     52\n",
       "87471     52\n",
       "87472     52\n",
       "87473     52\n",
       "          ..\n",
       "117963    52\n",
       "117964    52\n",
       "118090    51\n",
       "119489    49\n",
       "119629    52\n",
       "Name: semana, Length: 521, dtype: int64"
      ]
     },
     "execution_count": 31,
     "metadata": {},
     "output_type": "execute_result"
    }
   ],
   "source": [
    "Diciembre_Data = file[(file.semana >= 49) & (file.semana <= 53)]\n",
    "\n",
    "Diciembre_Data[[\"edad\",\"sexo\"]]\n",
    "Diciembre_Data[\"semana\"]"
   ]
  },
  {
   "cell_type": "code",
   "execution_count": 32,
   "metadata": {},
   "outputs": [
    {
     "data": {
      "image/png": "[encoded data removed]",
      "text/plain": [
       "<Figure size 1440x360 with 1 Axes>"
      ]
     },
     "metadata": {},
     "output_type": "display_data"
    }
   ],
   "source": [
    "kl=pd.DataFrame(file[\"semana\"].value_counts())\n",
    "Indices_semanas = list(kl.index)\n",
    "plt.figure(figsize=(20,5))\n",
    "Ds=sns.barplot(x=Indices_semanas, y=kl[\"semana\"],color='b')\n",
    "#Ds.set_xticklabels(Ds.get_xticklabels(),rotation=0,ha=\"right\")\n",
    "plt.xlabel(\"Semanas\")\n",
    "plt.ylabel(\"Frecuencia\")\n",
    "plt.savefig('Personas_respecto_semanas', dpi=300)\n",
    "plt.show()"
   ]
  },
  {
   "cell_type": "code",
   "execution_count": 33,
   "metadata": {},
   "outputs": [
    {
     "data": {
      "text/plain": [
       "1    1017\n",
       "3       7\n",
       "Name: Uni_med, dtype: int64"
      ]
     },
     "execution_count": 33,
     "metadata": {},
     "output_type": "execute_result"
    }
   ],
   "source": [
    "Data_uni_años_2010 = file[(file.uni_med == 1)&(file.year==2010)]\n",
    "Data_uni_dias_2010 = file[(file.uni_med == 3)&(file.year==2010)]\n",
    "\n",
    "Data_uni_años_2019 = file[(file.uni_med == 1)&(file.year==2019)] \n",
    "Data_uni_dias_2019 = file[(file.uni_med == 3)&(file.year==2019)]\n",
    "a=list(Data_uni_años_2010[\"uni_med\"]);aa=list(Data_uni_años_2010[\"year\"])\n",
    "b=list(Data_uni_dias_2010[\"uni_med\"]);bb=list(Data_uni_dias_2010[\"year\"])\n",
    "c=list(Data_uni_años_2019[\"uni_med\"]);cc=list(Data_uni_años_2019[\"year\"])\n",
    "d=list(Data_uni_dias_2019[\"uni_med\"]);dd=list(Data_uni_dias_2019[\"year\"])\n",
    "Lista_full_uni =a+b+c+d\n",
    "Lista_full_años=aa+bb+cc+dd\n",
    "DataFrame_diferencia_años =pd.DataFrame((Lista_full_uni),columns=[\"Uni_med\"])\n",
    "DataFrame_diferencia_años[\"Año\"]=Lista_full_años\n",
    "DataFrame_diferencia_años[\"Uni_med\"].value_counts()"
   ]
  },
  {
   "cell_type": "code",
   "execution_count": 34,
   "metadata": {},
   "outputs": [
    {
     "data": {
      "image/png": "[encoded data removed]",
      "text/plain": [
       "<Figure size 432x288 with 2 Axes>"
      ]
     },
     "metadata": {},
     "output_type": "display_data"
    }
   ],
   "source": [
    "plt.subplot(1,2,1)\n",
    "plt.hist(a);plt.title(\"Consumidores constantes 2010\")\n",
    "\n",
    "plt.subplot(1,2,2)\n",
    "plt.hist(c);plt.title(\"Consumidores constantes 2019\")\n",
    "plt.tight_layout()\n",
    "plt.savefig('Diferencia de personas constantes', dpi=300,bbox_inches='tight')\n",
    "plt.show()"
   ]
  },
  {
   "cell_type": "code",
   "execution_count": null,
   "metadata": {},
   "outputs": [],
   "source": [
    "datapie_NO = [len(Data_poblado[Data_poblado['Con o sin seguro'] == 'N']), len(Data_poblado[Data_poblado['Con o sin seguro'] == 'C']),\n",
    "              len(Data_poblado_otros[Data_poblado_otros[\"Otros\"]==\"S\"]),\n",
    "             len(Data_poblado_otros[Data_poblado_otros[\"Otros\"]==\"I\"]),\n",
    "             len(Data_poblado_otros[Data_poblado_otros[\"Otros\"]==\"E\"])]\n",
    "labels_NO = ['No asegurados', 'Asegurados',\"Subsidiado\",\"Indeterminado\",\"Especial\"]\n",
    "colors_NO = sns.color_palette('pastel')[0:9]\n",
    "plt.pie(datapie_NO, labels=labels_NO, colors=colors_NO, autopct='%.3f%%', radius=1.5)\n",
    "plt.savefig('Porcentaje_ss_poblado', dpi=300,bbox_inches='tight')\n",
    "plt.show()"
   ]
  }
 ],
 "metadata": {
  "kernelspec": {
   "display_name": "Python 3",
   "language": "python",
   "name": "python3"
  },
  "language_info": {
   "codemirror_mode": {
    "name": "ipython",
    "version": 3
   },
   "file_extension": ".py",
   "mimetype": "text/x-python",
   "name": "python",
   "nbconvert_exporter": "python",
   "pygments_lexer": "ipython3",
   "version": "3.8.3"
  }
 },
 "nbformat": 4,
 "nbformat_minor": 4
}
