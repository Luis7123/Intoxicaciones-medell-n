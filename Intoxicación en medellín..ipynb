{
 "cells": [
  {
   "cell_type": "code",
   "execution_count": 1,
   "metadata": {},
   "outputs": [],
   "source": [
    "# Importamos Librerias para vizualizacion de datos.\n",
    "import pandas as pd\n",
    "import numpy as np\n",
    "import seaborn as sns\n",
    "import matplotlib.pyplot as plt\n",
    "import scipy.stats\n",
    "sns.set()"
   ]
  },
  {
   "cell_type": "markdown",
   "metadata": {},
   "source": [
    "## Descripción de la base.\n",
    "\n",
    "| Variable    | Description                                                                                                                                          |\n",
    "| ----------- | ---------------------------------------------------------------------------------------------------------------------------------------------------- |\n",
    "| id    | (poner informacion)                                                                                      |\n",
    "| semana         | Semanas desde la 1-53                                                                                                                                    |\n",
    "| edad      | Edades generales.\n",
    "                    |\n",
    "| uni_med    | 0= No aplica, 1=Años, 2=Meses, 3=Días, 4=Horas, 5=Minutos SD=Sin informacion                                                                                                             |\n",
    "| sexo      | M=Masculino, F=Femenino, SD=Sin informacion \n",
    "                        |\n",
    "| nombre_barrio        | Texto asociado a la tabla de barrios definidos por la entidad territorial.  \n",
    "                        |\n",
    "| comuna    | Texto asociado a la tabla de comunas definidas por la entidad territorial.                                                                                                       |\n",
    "| tipo_ss      | C= Contributivo, S=Subsidiado, P=Excepción, E=Especial, N= No asegurado, I= Indeterminado/Pendiente, SD=Sin informacion.                                                                                                            |\n",
    "| cod_Ase      | Texto de 6 dígitos                                                                                                                 |\n",
    "| fec_con    | DD/MM/AAAA (Día, Mes, Año). (string)                                                                                               |\n",
    "| ini_sin | DD/MM/AAAA (Día, Mes, Año). (formato fecha)                                                                                                            |\n",
    "| tip_cas        | 1=Sospechoso, 2= Probable,3=Confirmado por laboratorio, 4=Confirmado por clinica ,5= Confirmado por nexo epidemiológico                                                                                                                      |\n",
    "| pac_hos        | 1= Si 2= No                                                                                                                      |\n",
    "| evento        | Texto asociado a los eventos notificados.                                                                                                                      |\n",
    "| year        | Texto asociado al año de notificación                                                                                                                    |"
   ]
  },
  {
   "cell_type": "code",
   "execution_count": null,
   "metadata": {},
   "outputs": [],
   "source": [
    "# lectura de archivos en formato DataFrame\n",
    "file = pd.read_csv(\"intoxicacion_por_sustancias_psicoactivas.csv\",';')\n",
    "file.head(3)"
   ]
  },
  {
   "cell_type": "code",
   "execution_count": null,
   "metadata": {},
   "outputs": [],
   "source": [
    "#Conocemos su cantidad de filas y el nombre de las columnas.\n",
    "print(file.index)\n",
    "print(file.columns)\n",
    "print(file.shape)"
   ]
  },
  {
   "cell_type": "code",
   "execution_count": null,
   "metadata": {},
   "outputs": [],
   "source": [
    "# Eliminamos una barra de guión la cual estaba al final de cada nombre de los nombres de las columnas.\n",
    "file.rename(columns=lambda s:s.strip('_'),inplace=True)\n",
    "#file.head(3)"
   ]
  },
  {
   "cell_type": "code",
   "execution_count": null,
   "metadata": {},
   "outputs": [],
   "source": [
    "# Nuestros indices serán los id para un mejor control de la base.\n",
    "file.index=file[\"id\"].values\n",
    "#file.head(3)"
   ]
  },
  {
   "cell_type": "code",
   "execution_count": null,
   "metadata": {},
   "outputs": [],
   "source": [
    "# Eliminamos la columna id ya que tenemos nuestros indices.\n",
    "file.drop(['id'], axis=1).head(3)"
   ]
  },
  {
   "cell_type": "code",
   "execution_count": null,
   "metadata": {},
   "outputs": [],
   "source": [
    "# Encontrar correlacion entre sexo y barrios.\n",
    "file[['sexo','nombre_barrio']]"
   ]
  },
  {
   "cell_type": "code",
   "execution_count": null,
   "metadata": {},
   "outputs": [],
   "source": [
    "# Diagrama de cajas y bigotes con respecto a la edad, datos promedio [20,40]\n",
    "sns.boxplot(file['edad'])"
   ]
  },
  {
   "cell_type": "code",
   "execution_count": null,
   "metadata": {},
   "outputs": [],
   "source": [
    "Distri = sns.distplot(file['edad'],\n",
    "                  bins=20,\n",
    "                  kde=True,\n",
    "                  color='red',\n",
    "                  hist_kws={\"linewidth\": 10,'alpha':1})\n",
    "Distri.set(xlabel='Distribution normal', ylabel='Frecuencia')"
   ]
  },
  {
   "cell_type": "code",
   "execution_count": null,
   "metadata": {},
   "outputs": [],
   "source": [
    "#Existe significancia de genero con respecto al año?\n",
    "scipy.stats.ttest_ind(file[file['sexo'] == 'F']['year'],\n",
    "                        file[file['sexo'] == 'M']['year'], equal_var = True)\n"
   ]
  },
  {
   "cell_type": "code",
   "execution_count": null,
   "metadata": {
    "scrolled": true
   },
   "outputs": [],
   "source": [
    "# existe significancia de genero con respecto a la comuna?\n",
    "Comunas_mujeres = pd.DataFrame(file[file['sexo'] == 'F']['comuna'])\n",
    "Comunas_hombres = pd.DataFrame(file[file['sexo'] == 'M']['comuna'])\n",
    "Comunas_mujeres"
   ]
  },
  {
   "cell_type": "code",
   "execution_count": null,
   "metadata": {},
   "outputs": [],
   "source": [
    "Arreglo1 = Comunas_mujeres['comuna'].value_counts()\n",
    "Arreglo2 = Comunas_hombres['comuna'].value_counts()\n",
    "Vizualization1 = pd.DataFrame(Comunas_mujeres['comuna'].value_counts())\n",
    "Vizualization2 = pd.DataFrame(Comunas_hombres['comuna'].value_counts())\n",
    "A=list(Vizualization1.index)\n",
    "B=list(Vizualization2.index)"
   ]
  },
  {
   "cell_type": "code",
   "execution_count": null,
   "metadata": {},
   "outputs": [],
   "source": [
    "plt.subplot(1,2,1)\n",
    "plt.hist(Arreglo1)\n",
    "\n",
    "plt.subplot(1,2,2)\n",
    "plt.hist(Arreglo2)\n",
    "\n",
    "plt.tight_layout()\n",
    "plt.show()"
   ]
  },
  {
   "cell_type": "code",
   "execution_count": null,
   "metadata": {},
   "outputs": [],
   "source": [
    "plt.subplot(1,2,1)\n",
    "plt.plot(Arreglo1,A,'g')\n",
    "\n",
    "plt.subplot(1,2,1)\n",
    "plt.plot(Arreglo2,B,'k')\n",
    "\n",
    "#Grafico verde mujeres, grafico negro hombres.\n",
    "plt.show()"
   ]
  },
  {
   "cell_type": "markdown",
   "metadata": {},
   "source": [
    "---\n",
    "\n",
    "Veamos la proporción total de personas intoxicadas separadas por su género:"
   ]
  },
  {
   "cell_type": "code",
   "execution_count": null,
   "metadata": {},
   "outputs": [],
   "source": [
    "# Proporcion total de hombres y mujeres intoxicados registrados\n",
    "\n",
    "datapie = [len(file[file['sexo'] == 'M']), len(file[file['sexo'] == 'F'])]\n",
    "labels = ['hombres', 'mujeres']\n",
    "colors = sns.color_palette('pastel')[0:2]\n",
    "plt.pie(datapie, labels=labels, colors=colors, autopct='%.3f%%', radius=1.5); plt.show()"
   ]
  },
  {
   "cell_type": "markdown",
   "metadata": {},
   "source": [
    "Una breve descripción de los datos estadísticos de interés sobre la edad de la población es:"
   ]
  },
  {
   "cell_type": "code",
   "execution_count": null,
   "metadata": {},
   "outputs": [],
   "source": [
    "# Resumen estadistico de las edades de los intoxicados\n",
    "file['edad'].describe()"
   ]
  },
  {
   "cell_type": "markdown",
   "metadata": {},
   "source": [
    "---\n",
    "\n",
    "* Para poder diferenciar los rangos de edad para cada año de las personas que han sufrido intoxicación por consumo de sustancias psicoactivas se tiene el siguiente gráfico:"
   ]
  },
  {
   "cell_type": "code",
   "execution_count": null,
   "metadata": {
    "scrolled": true
   },
   "outputs": [],
   "source": [
    "# Densidad de edad entre hombres y mujeres intoxicados para cada año\n",
    "#sns.set_theme()\n",
    "sns.lineplot(data=file, x=\"year\", y=\"edad\", hue='sexo')"
   ]
  },
  {
   "cell_type": "markdown",
   "metadata": {},
   "source": [
    "Se ha encontrado en general un mayor rango de edades entre las mujeres que han sufrido este tipo de intoxicación presentando una mayor diferencia de edad hacia el año 2012. Por otro lado, la población masculina presenta en general un menor rango de edades para cada año, presentando edades que no se alejan tanto de la media.\n",
    "\n",
    "La linea central representa la estimación de la media, las bandas inferior y superior son el intervalo de confianza para la media, con un 95% de confianza."
   ]
  },
  {
   "cell_type": "markdown",
   "metadata": {},
   "source": [
    "---\n",
    "\n",
    "* Veamos ahora la cantidad de hombres y mujeres intoxicados cada año, visualizaremos el aumento o disminución de los casos para cada año:"
   ]
  },
  {
   "cell_type": "code",
   "execution_count": null,
   "metadata": {},
   "outputs": [],
   "source": [
    "years = []; years_r = []; sexo = []; cantidad = []\n",
    "\n",
    "for y in file['year']:\n",
    "    if years_r.count(y) < 2:\n",
    "        years_r.append(y)\n",
    "    if y not in years:\n",
    "        years.append(y)\n",
    "        sexo.append('M')\n",
    "        sexo.append('F')\n",
    "\n",
    "for y1 in years:\n",
    "    cantidad.append(len(file[(file['year'] == y1) & (file['sexo'] == 'M')]))\n",
    "    cantidad.append(len(file[(file['year'] == y1) & (file['sexo'] == 'F')]))"
   ]
  },
  {
   "cell_type": "code",
   "execution_count": null,
   "metadata": {},
   "outputs": [],
   "source": [
    "dataMF = {'year':years_r, 'sexo':sexo, 'cantidad':cantidad}\n",
    "df_dataMF = pd.DataFrame(dataMF)\n",
    "df_dataMF"
   ]
  },
  {
   "cell_type": "code",
   "execution_count": null,
   "metadata": {},
   "outputs": [],
   "source": [
    "sns.lineplot(data=df_dataMF, x=\"year\", y=\"cantidad\", hue='sexo'); plt.title('cantidad de intoxicados por año')"
   ]
  },
  {
   "cell_type": "markdown",
   "metadata": {},
   "source": [
    "Vemos que los registros de intoxicaciones presentan un aumento respecto a los años anteriores, teniendo únicamente un decrecimiento considerable hacia el año 2013."
   ]
  },
  {
   "cell_type": "markdown",
   "metadata": {},
   "source": [
    "---\n",
    "\n",
    "* Veamos la densidad de casos discretizada por sexo y edad, para la concentración hacia el 50% de registros que se tienen de los casos:"
   ]
  },
  {
   "cell_type": "code",
   "execution_count": null,
   "metadata": {},
   "outputs": [],
   "source": [
    "sns.boxplot(x='sexo', y='edad', data=file)"
   ]
  },
  {
   "cell_type": "code",
   "execution_count": null,
   "metadata": {},
   "outputs": [],
   "source": [
    "sns.distplot(file['edad'], bins = 25, hist=True, kde=False, rug=True, norm_hist=True)"
   ]
  },
  {
   "cell_type": "markdown",
   "metadata": {},
   "source": [
    "sns.pairplot(file, hue = 'sexo')"
   ]
  },
  {
   "cell_type": "code",
   "execution_count": null,
   "metadata": {},
   "outputs": [],
   "source": [
    "file[[\"tip_cas\",\"comuna\"]]"
   ]
  },
  {
   "cell_type": "code",
   "execution_count": null,
   "metadata": {},
   "outputs": [],
   "source": [
    "Tipo_No = list(file[\"tipo_ss\"])\n",
    "Tipo_Com = list(file[\"comuna\"])\n",
    "save_type=[]\n",
    "save_comuna=[]\n",
    "for i in range(len(Tipo_No)):\n",
    "    if Tipo_No[i]=='N':\n",
    "        save_type.append(Tipo_No[i])\n",
    "        save_comuna.append(Tipo_Com[i])\n",
    "        \n",
    "Guardar_poblado_infectados=0\n",
    "for k in range(len(Tipo_Com)):\n",
    "    if Tipo_Com[k]==\"El Poblado\":\n",
    "        Guardar_poblado_infectados+=1\n",
    "Guardar_poblado_infectados"
   ]
  },
  {
   "cell_type": "code",
   "execution_count": null,
   "metadata": {
    "scrolled": true
   },
   "outputs": [],
   "source": [
    "Dt_No= pd.DataFrame((save_type),columns=[\"No asegurado\"])\n",
    "Dt_No[\"Comuna\"]=save_comuna\n",
    "Enlistadas_las_comunas_sin_seguro = Dt_No[\"Comuna\"].value_counts()\n",
    "Enlistadas_las_comunas_sin_seguro"
   ]
  },
  {
   "cell_type": "code",
   "execution_count": null,
   "metadata": {},
   "outputs": [],
   "source": [
    "proporcion_poblado = list(Enlistadas_las_comunas_sin_seguro)[0]/Guardar_poblado_infectados\n",
    "proporcion_poblado\n",
    "#El 22% de los infectados en el barrio más turistico de medellín y con mejor estrato no poseen un sistema de salud estable"
   ]
  },
  {
   "cell_type": "code",
   "execution_count": null,
   "metadata": {},
   "outputs": [],
   "source": [
    "save_type2=[]\n",
    "save_comuna2=[]\n",
    "for h in range(len(Tipo_No)):\n",
    "    if Tipo_No[h]=='C':\n",
    "        save_type2.append(Tipo_No[h])\n",
    "        save_comuna2.append(Tipo_Com[h])\n",
    "        "
   ]
  },
  {
   "cell_type": "code",
   "execution_count": null,
   "metadata": {},
   "outputs": [],
   "source": [
    "Dt_con= pd.DataFrame((save_type2),columns=[\"Asegurado\"])\n",
    "Dt_con[\"Comuna\"]=save_comuna2\n",
    "Dt_con[\"Comuna\"].value_counts()\n",
    "\n",
    "# Asegurados con respecto a la comuna."
   ]
  },
  {
   "cell_type": "code",
   "execution_count": null,
   "metadata": {},
   "outputs": [],
   "source": [
    "Tipo_No = list(file[\"tipo_ss\"])\n",
    "Tipo_Com = list(file[\"comuna\"])\n",
    "save_type_poblado=[]\n",
    "save_type_poblado_otros=[]\n",
    "#save_poblado=[]\n",
    "for i in range(len(Tipo_No)):\n",
    "    if Tipo_Com[i]==\"El Poblado\":\n",
    "        if (Tipo_No[i]=='N')or(Tipo_No[i]==\"C\"):\n",
    "            save_type_poblado.append(Tipo_No[i])\n",
    "            \n",
    "for m in range(len(Tipo_No)):\n",
    "    if Tipo_Com[m]==\"El Poblado\":\n",
    "        if (Tipo_No[m]=='S')or(Tipo_No[m]==\"P\")or(Tipo_No[m]==\"E\")or(Tipo_No[m]==\"I\")or(Tipo_No[m]==\"SD\"):\n",
    "            save_type_poblado_otros.append(Tipo_No[m])\n",
    "Data_poblado = pd.DataFrame((save_type_poblado),columns=[\"Con o sin seguro\"])\n",
    "Data_poblado_otros= pd.DataFrame((save_type_poblado_otros),columns=[\"Otros\"])\n",
    "Data_poblado.shape "
   ]
  },
  {
   "cell_type": "markdown",
   "metadata": {},
   "source": [
    "**Podemos notar que de los 383,  338 pertenecen al grupo Con seguro o sin seguro, teniendo así una mayor proporcion de personas aseguradas en medellín, a la vez que personas no aseguradas.**"
   ]
  },
  {
   "cell_type": "code",
   "execution_count": null,
   "metadata": {},
   "outputs": [],
   "source": [
    "datapie_NO = [len(Data_poblado[Data_poblado['Con o sin seguro'] == 'N']), len(Data_poblado[Data_poblado['Con o sin seguro'] == 'C']),\n",
    "              len(Data_poblado_otros[Data_poblado_otros[\"Otros\"]==\"S\"]),\n",
    "             len(Data_poblado_otros[Data_poblado_otros[\"Otros\"]==\"I\"]),\n",
    "             len(Data_poblado_otros[Data_poblado_otros[\"Otros\"]==\"E\"])]\n",
    "labels_NO = ['No asegurados', 'Asegurados',\"Subsidiado\",\"Indeterminado\",\"Especial\"]\n",
    "colors_NO = sns.color_palette('pastel')[0:9]\n",
    "plt.pie(datapie_NO, labels=labels_NO, colors=colors_NO, autopct='%.3f%%', radius=1.5)\n",
    "plt.savefig('Porcentaje_ss_poblado', dpi=300,bbox_inches='tight')\n",
    "plt.show()"
   ]
  },
  {
   "cell_type": "code",
   "execution_count": null,
   "metadata": {},
   "outputs": [],
   "source": [
    "Diciembre_Data = file[(file.semana >= 49) & (file.semana <= 53)]\n",
    "\n",
    "Diciembre_Data[[\"edad\",\"sexo\"]]\n",
    "Diciembre_Data[\"semana\"]"
   ]
  },
  {
   "cell_type": "code",
   "execution_count": null,
   "metadata": {},
   "outputs": [],
   "source": [
    "kl=pd.DataFrame(file[\"semana\"].value_counts())\n",
    "Indices_semanas = list(kl.index)\n",
    "plt.figure(figsize=(20,5))\n",
    "Ds=sns.barplot(x=Indices_semanas, y=kl[\"semana\"],color='b')\n",
    "#Ds.set_xticklabels(Ds.get_xticklabels(),rotation=0,ha=\"right\")\n",
    "plt.xlabel(\"Semanas\")\n",
    "plt.ylabel(\"Frecuencia\")\n",
    "plt.savefig('Personas_respecto_semanas', dpi=300)\n",
    "plt.show()"
   ]
  },
  {
   "cell_type": "code",
   "execution_count": null,
   "metadata": {},
   "outputs": [],
   "source": [
    "Data_uni_años_2010 = file[(file.uni_med == 1)&(file.year==2010)]\n",
    "Data_uni_dias_2010 = file[(file.uni_med == 3)&(file.year==2010)]\n",
    "\n",
    "Data_uni_años_2019 = file[(file.uni_med == 1)&(file.year==2019)] \n",
    "Data_uni_dias_2019 = file[(file.uni_med == 3)&(file.year==2019)]\n",
    "a=list(Data_uni_años_2010[\"uni_med\"]);aa=list(Data_uni_años_2010[\"year\"])\n",
    "b=list(Data_uni_dias_2010[\"uni_med\"]);bb=list(Data_uni_dias_2010[\"year\"])\n",
    "c=list(Data_uni_años_2019[\"uni_med\"]);cc=list(Data_uni_años_2019[\"year\"])\n",
    "d=list(Data_uni_dias_2019[\"uni_med\"]);dd=list(Data_uni_dias_2019[\"year\"])\n",
    "Lista_full_uni =a+b+c+d\n",
    "Lista_full_años=aa+bb+cc+dd\n",
    "DataFrame_diferencia_años =pd.DataFrame((Lista_full_uni),columns=[\"Uni_med\"])\n",
    "DataFrame_diferencia_años[\"Año\"]=Lista_full_años\n",
    "DataFrame_diferencia_años[\"Uni_med\"].value_counts()"
   ]
  },
  {
   "cell_type": "code",
   "execution_count": null,
   "metadata": {},
   "outputs": [],
   "source": [
    "plt.subplot(1,2,1)\n",
    "plt.hist(a);plt.title(\"Consumidores constantes 2010\")\n",
    "\n",
    "plt.subplot(1,2,2)\n",
    "plt.hist(c);plt.title(\"Consumidores constantes 2019\")\n",
    "plt.tight_layout()\n",
    "plt.savefig('Diferencia de personas constantes', dpi=300,bbox_inches='tight')\n",
    "plt.show()"
   ]
  },
  {
   "cell_type": "code",
   "execution_count": null,
   "metadata": {},
   "outputs": [],
   "source": [
    "file[\"comuna\"].value_counts()"
   ]
  }
 ],
 "metadata": {
  "kernelspec": {
   "display_name": "Python 3",
   "language": "python",
   "name": "python3"
  },
  "language_info": {
   "codemirror_mode": {
    "name": "ipython",
    "version": 3
   },
   "file_extension": ".py",
   "mimetype": "text/x-python",
   "name": "python",
   "nbconvert_exporter": "python",
   "pygments_lexer": "ipython3",
   "version": "3.8.3"
  }
 },
 "nbformat": 4,
 "nbformat_minor": 4
}
