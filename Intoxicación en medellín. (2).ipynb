{
 "cells": [
  {
   "cell_type": "code",
   "execution_count": 11,
   "metadata": {},
   "outputs": [],
   "source": [
    "# Importamos Librerias para vizualizacion de datos.\n",
    "import pandas as pd\n",
    "import numpy as np\n",
    "import seaborn as sns\n",
    "import matplotlib.pyplot as plt\n",
    "import scipy.stats\n",
    "sns.set()"
   ]
  },
  {
   "cell_type": "markdown",
   "metadata": {},
   "source": [
    "## Descripción de la base.\n",
    "\n",
    "| Variable    | Description                                                                                                                                          |\n",
    "| ----------- | ---------------------------------------------------------------------------------------------------------------------------------------------------- |\n",
    "| id    | (poner informacion)                                                                                      |\n",
    "| semana         | Semanas desde la 1-53                                                                                                                                    |\n",
    "| edad      | Edades generales.\n",
    "                    |\n",
    "| uni_med    | 0= No aplica, 1=Años, 2=Meses, 3=Días, 4=Horas, 5=Minutos SD=Sin informacion                                                                                                             |\n",
    "| sexo      | M=Masculino, F=Femenino, SD=Sin informacion \n",
    "                        |\n",
    "| nombre_barrio        | Texto asociado a la tabla de barrios definidos por la entidad territorial.  \n",
    "                        |\n",
    "| comuna    | Texto asociado a la tabla de comunas definidas por la entidad territorial.                                                                                                       |\n",
    "| tipo_ss      | C= Contributivo, S=Subsidiado, P=Excepción, E=Especial, N= No asegurado, I= Indeterminado/Pendiente, SD=Sin informacion.                                                                                                            |\n",
    "| cod_Ase      | Texto de 6 dígitos                                                                                                                 |\n",
    "| fec_con    | DD/MM/AAAA (Día, Mes, Año). (string)                                                                                               |\n",
    "| ini_sin | DD/MM/AAAA (Día, Mes, Año). (formato fecha)                                                                                                            |\n",
    "| tip_cas        | 1=Sospechoso, 2= Probable,3=Confirmado por laboratorio, 4=Confirmado por clinica ,5= Confirmado por nexo epidemiológico                                                                                                                      |\n",
    "| pac_hos        | 1= Si 2= No                                                                                                                      |\n",
    "| evento        | Texto asociado a los eventos notificados.                                                                                                                      |\n",
    "| year        | Texto asociado al año de notificación                                                                                                                    |"
   ]
  },
  {
   "cell_type": "markdown",
   "metadata": {},
   "source": [
    "# lectura de archivos en formato ``DataFrame`` usando libreria ``pandas``"
   ]
  },
  {
   "cell_type": "code",
   "execution_count": 2,
   "metadata": {},
   "outputs": [
    {
     "data": {
      "text/html": [
       "<div>\n",
       "<style scoped>\n",
       "    .dataframe tbody tr th:only-of-type {\n",
       "        vertical-align: middle;\n",
       "    }\n",
       "\n",
       "    .dataframe tbody tr th {\n",
       "        vertical-align: top;\n",
       "    }\n",
       "\n",
       "    .dataframe thead th {\n",
       "        text-align: right;\n",
       "    }\n",
       "</style>\n",
       "<table border=\"1\" class=\"dataframe\">\n",
       "  <thead>\n",
       "    <tr style=\"text-align: right;\">\n",
       "      <th></th>\n",
       "      <th>id</th>\n",
       "      <th>semana</th>\n",
       "      <th>edad_</th>\n",
       "      <th>uni_med_</th>\n",
       "      <th>sexo_</th>\n",
       "      <th>nombre_barrio</th>\n",
       "      <th>comuna</th>\n",
       "      <th>tipo_ss_</th>\n",
       "      <th>cod_ase_</th>\n",
       "      <th>fec_con_</th>\n",
       "      <th>ini_sin_</th>\n",
       "      <th>tip_cas_</th>\n",
       "      <th>pac_hos_</th>\n",
       "      <th>evento</th>\n",
       "      <th>year_</th>\n",
       "    </tr>\n",
       "  </thead>\n",
       "  <tbody>\n",
       "    <tr>\n",
       "      <th>0</th>\n",
       "      <td>87355</td>\n",
       "      <td>46</td>\n",
       "      <td>32</td>\n",
       "      <td>1</td>\n",
       "      <td>M</td>\n",
       "      <td>El Poblado</td>\n",
       "      <td>El Poblado</td>\n",
       "      <td>C</td>\n",
       "      <td>EPS005</td>\n",
       "      <td>2010-11-20</td>\n",
       "      <td>2010-11-20</td>\n",
       "      <td>4</td>\n",
       "      <td>2</td>\n",
       "      <td>INTOXICACION POR SUSTANCIAS PSICOACTIVAS</td>\n",
       "      <td>2010</td>\n",
       "    </tr>\n",
       "    <tr>\n",
       "      <th>1</th>\n",
       "      <td>87356</td>\n",
       "      <td>46</td>\n",
       "      <td>36</td>\n",
       "      <td>1</td>\n",
       "      <td>F</td>\n",
       "      <td>SIN INFORMACION</td>\n",
       "      <td>SIN INFORMACION</td>\n",
       "      <td>C</td>\n",
       "      <td>EPS013</td>\n",
       "      <td>2010-11-16</td>\n",
       "      <td>2010-11-16</td>\n",
       "      <td>4</td>\n",
       "      <td>1</td>\n",
       "      <td>INTOXICACION POR SUSTANCIAS PSICOACTIVAS</td>\n",
       "      <td>2010</td>\n",
       "    </tr>\n",
       "    <tr>\n",
       "      <th>2</th>\n",
       "      <td>87357</td>\n",
       "      <td>46</td>\n",
       "      <td>17</td>\n",
       "      <td>1</td>\n",
       "      <td>F</td>\n",
       "      <td>Campo Valdes No.2</td>\n",
       "      <td>Manrique</td>\n",
       "      <td>C</td>\n",
       "      <td>5000</td>\n",
       "      <td>2010-11-19</td>\n",
       "      <td>2010-11-18</td>\n",
       "      <td>4</td>\n",
       "      <td>2</td>\n",
       "      <td>INTOXICACION POR SUSTANCIAS PSICOACTIVAS</td>\n",
       "      <td>2010</td>\n",
       "    </tr>\n",
       "  </tbody>\n",
       "</table>\n",
       "</div>"
      ],
      "text/plain": [
       "      id  semana  edad_  uni_med_ sexo_      nombre_barrio           comuna  \\\n",
       "0  87355      46     32         1     M         El Poblado       El Poblado   \n",
       "1  87356      46     36         1     F    SIN INFORMACION  SIN INFORMACION   \n",
       "2  87357      46     17         1     F  Campo Valdes No.2         Manrique   \n",
       "\n",
       "  tipo_ss_ cod_ase_    fec_con_    ini_sin_  tip_cas_  pac_hos_  \\\n",
       "0        C   EPS005  2010-11-20  2010-11-20         4         2   \n",
       "1        C   EPS013  2010-11-16  2010-11-16         4         1   \n",
       "2        C     5000  2010-11-19  2010-11-18         4         2   \n",
       "\n",
       "                                     evento  year_  \n",
       "0  INTOXICACION POR SUSTANCIAS PSICOACTIVAS   2010  \n",
       "1  INTOXICACION POR SUSTANCIAS PSICOACTIVAS   2010  \n",
       "2  INTOXICACION POR SUSTANCIAS PSICOACTIVAS   2010  "
      ]
     },
     "execution_count": 2,
     "metadata": {},
     "output_type": "execute_result"
    }
   ],
   "source": [
    "file = pd.read_csv(\"intoxicacion_por_sustancias_psicoactivas.csv\",';')\n",
    "file.head(3)"
   ]
  },
  {
   "cell_type": "markdown",
   "metadata": {},
   "source": [
    "*Conocemos su cantidad de filas y el nombre de las columnas.*"
   ]
  },
  {
   "cell_type": "code",
   "execution_count": 3,
   "metadata": {},
   "outputs": [
    {
     "name": "stdout",
     "output_type": "stream",
     "text": [
      "RangeIndex(start=0, stop=5338, step=1)\n",
      "Index(['id', 'semana', 'edad_', 'uni_med_', 'sexo_', 'nombre_barrio', 'comuna',\n",
      "       'tipo_ss_', 'cod_ase_', 'fec_con_', 'ini_sin_', 'tip_cas_', 'pac_hos_',\n",
      "       'evento', 'year_'],\n",
      "      dtype='object')\n",
      "(5338, 15)\n"
     ]
    }
   ],
   "source": [
    "print(file.index)\n",
    "print(file.columns)\n",
    "print(file.shape)"
   ]
  },
  {
   "cell_type": "markdown",
   "metadata": {},
   "source": [
    "* Para el analisis precisaremos de conocer la cantidad de consumidores en cada comuna."
   ]
  },
  {
   "cell_type": "code",
   "execution_count": 4,
   "metadata": {
    "scrolled": true
   },
   "outputs": [
    {
     "data": {
      "text/plain": [
       "Buenos Aires                      391\n",
       "El Poblado                        383\n",
       "Villa Hermosa                     381\n",
       "Robledo                           363\n",
       "Popular                           331\n",
       "La Candelaria                     323\n",
       "Belen                             319\n",
       "Manrique                          311\n",
       "Aranjuez                          288\n",
       "SIN INFORMACION                   280\n",
       "Doce de Octubre                   275\n",
       "Castilla                          213\n",
       "San Javier                        204\n",
       "SIN UBICACION EN ZONA URBANA      196\n",
       "Laureles                          184\n",
       "San Antonio de Prado              184\n",
       "Santa Cruz                        180\n",
       "Guayabal                          173\n",
       "Corregimiento de San Cristobal    128\n",
       "La America                        122\n",
       "SIN UBICACIoN EN ZONA URBANA       38\n",
       "Altavista                          37\n",
       "Corregimiento De Santa Elena       26\n",
       "Santa elena                         6\n",
       "San Sebastian de Palmitas           2\n",
       "Name: comuna, dtype: int64"
      ]
     },
     "execution_count": 4,
     "metadata": {},
     "output_type": "execute_result"
    }
   ],
   "source": [
    "file[\"comuna\"].value_counts()"
   ]
  },
  {
   "cell_type": "code",
   "execution_count": 5,
   "metadata": {},
   "outputs": [],
   "source": [
    "# Eliminamos una barra de guión la cual estaba al final de cada nombre de los nombres de las columnas.\n",
    "file.rename(columns=lambda s:s.strip('_'),inplace=True)\n",
    "#file.head(3)"
   ]
  },
  {
   "cell_type": "code",
   "execution_count": 6,
   "metadata": {},
   "outputs": [],
   "source": [
    "# Nuestros indices serán los id para un mejor control de la base.\n",
    "file.index=file[\"id\"].values\n",
    "#file.head(3)"
   ]
  },
  {
   "cell_type": "code",
   "execution_count": 7,
   "metadata": {},
   "outputs": [
    {
     "data": {
      "text/html": [
       "<div>\n",
       "<style scoped>\n",
       "    .dataframe tbody tr th:only-of-type {\n",
       "        vertical-align: middle;\n",
       "    }\n",
       "\n",
       "    .dataframe tbody tr th {\n",
       "        vertical-align: top;\n",
       "    }\n",
       "\n",
       "    .dataframe thead th {\n",
       "        text-align: right;\n",
       "    }\n",
       "</style>\n",
       "<table border=\"1\" class=\"dataframe\">\n",
       "  <thead>\n",
       "    <tr style=\"text-align: right;\">\n",
       "      <th></th>\n",
       "      <th>semana</th>\n",
       "      <th>edad</th>\n",
       "      <th>uni_med</th>\n",
       "      <th>sexo</th>\n",
       "      <th>nombre_barrio</th>\n",
       "      <th>comuna</th>\n",
       "      <th>tipo_ss</th>\n",
       "      <th>cod_ase</th>\n",
       "      <th>fec_con</th>\n",
       "      <th>ini_sin</th>\n",
       "      <th>tip_cas</th>\n",
       "      <th>pac_hos</th>\n",
       "      <th>evento</th>\n",
       "      <th>year</th>\n",
       "    </tr>\n",
       "  </thead>\n",
       "  <tbody>\n",
       "    <tr>\n",
       "      <th>87355</th>\n",
       "      <td>46</td>\n",
       "      <td>32</td>\n",
       "      <td>1</td>\n",
       "      <td>M</td>\n",
       "      <td>El Poblado</td>\n",
       "      <td>El Poblado</td>\n",
       "      <td>C</td>\n",
       "      <td>EPS005</td>\n",
       "      <td>2010-11-20</td>\n",
       "      <td>2010-11-20</td>\n",
       "      <td>4</td>\n",
       "      <td>2</td>\n",
       "      <td>INTOXICACION POR SUSTANCIAS PSICOACTIVAS</td>\n",
       "      <td>2010</td>\n",
       "    </tr>\n",
       "    <tr>\n",
       "      <th>87356</th>\n",
       "      <td>46</td>\n",
       "      <td>36</td>\n",
       "      <td>1</td>\n",
       "      <td>F</td>\n",
       "      <td>SIN INFORMACION</td>\n",
       "      <td>SIN INFORMACION</td>\n",
       "      <td>C</td>\n",
       "      <td>EPS013</td>\n",
       "      <td>2010-11-16</td>\n",
       "      <td>2010-11-16</td>\n",
       "      <td>4</td>\n",
       "      <td>1</td>\n",
       "      <td>INTOXICACION POR SUSTANCIAS PSICOACTIVAS</td>\n",
       "      <td>2010</td>\n",
       "    </tr>\n",
       "    <tr>\n",
       "      <th>87357</th>\n",
       "      <td>46</td>\n",
       "      <td>17</td>\n",
       "      <td>1</td>\n",
       "      <td>F</td>\n",
       "      <td>Campo Valdes No.2</td>\n",
       "      <td>Manrique</td>\n",
       "      <td>C</td>\n",
       "      <td>5000</td>\n",
       "      <td>2010-11-19</td>\n",
       "      <td>2010-11-18</td>\n",
       "      <td>4</td>\n",
       "      <td>2</td>\n",
       "      <td>INTOXICACION POR SUSTANCIAS PSICOACTIVAS</td>\n",
       "      <td>2010</td>\n",
       "    </tr>\n",
       "  </tbody>\n",
       "</table>\n",
       "</div>"
      ],
      "text/plain": [
       "       semana  edad  uni_med sexo      nombre_barrio           comuna tipo_ss  \\\n",
       "87355      46    32        1    M         El Poblado       El Poblado       C   \n",
       "87356      46    36        1    F    SIN INFORMACION  SIN INFORMACION       C   \n",
       "87357      46    17        1    F  Campo Valdes No.2         Manrique       C   \n",
       "\n",
       "      cod_ase     fec_con     ini_sin  tip_cas  pac_hos  \\\n",
       "87355  EPS005  2010-11-20  2010-11-20        4        2   \n",
       "87356  EPS013  2010-11-16  2010-11-16        4        1   \n",
       "87357    5000  2010-11-19  2010-11-18        4        2   \n",
       "\n",
       "                                         evento  year  \n",
       "87355  INTOXICACION POR SUSTANCIAS PSICOACTIVAS  2010  \n",
       "87356  INTOXICACION POR SUSTANCIAS PSICOACTIVAS  2010  \n",
       "87357  INTOXICACION POR SUSTANCIAS PSICOACTIVAS  2010  "
      ]
     },
     "execution_count": 7,
     "metadata": {},
     "output_type": "execute_result"
    }
   ],
   "source": [
    "# Eliminamos la columna id ya que tenemos nuestros indices.\n",
    "file.drop(['id'], axis=1).head(3)"
   ]
  },
  {
   "cell_type": "code",
   "execution_count": 8,
   "metadata": {},
   "outputs": [
    {
     "data": {
      "text/html": [
       "<div>\n",
       "<style scoped>\n",
       "    .dataframe tbody tr th:only-of-type {\n",
       "        vertical-align: middle;\n",
       "    }\n",
       "\n",
       "    .dataframe tbody tr th {\n",
       "        vertical-align: top;\n",
       "    }\n",
       "\n",
       "    .dataframe thead th {\n",
       "        text-align: right;\n",
       "    }\n",
       "</style>\n",
       "<table border=\"1\" class=\"dataframe\">\n",
       "  <thead>\n",
       "    <tr style=\"text-align: right;\">\n",
       "      <th></th>\n",
       "      <th>sexo</th>\n",
       "      <th>nombre_barrio</th>\n",
       "    </tr>\n",
       "  </thead>\n",
       "  <tbody>\n",
       "    <tr>\n",
       "      <th>87355</th>\n",
       "      <td>M</td>\n",
       "      <td>El Poblado</td>\n",
       "    </tr>\n",
       "    <tr>\n",
       "      <th>87356</th>\n",
       "      <td>F</td>\n",
       "      <td>SIN INFORMACION</td>\n",
       "    </tr>\n",
       "    <tr>\n",
       "      <th>87357</th>\n",
       "      <td>F</td>\n",
       "      <td>Campo Valdes No.2</td>\n",
       "    </tr>\n",
       "    <tr>\n",
       "      <th>87379</th>\n",
       "      <td>F</td>\n",
       "      <td>Los Angeles</td>\n",
       "    </tr>\n",
       "    <tr>\n",
       "      <th>87397</th>\n",
       "      <td>F</td>\n",
       "      <td>SIN INFORMACION</td>\n",
       "    </tr>\n",
       "    <tr>\n",
       "      <th>...</th>\n",
       "      <td>...</td>\n",
       "      <td>...</td>\n",
       "    </tr>\n",
       "    <tr>\n",
       "      <th>119676</th>\n",
       "      <td>M</td>\n",
       "      <td>Andalucía</td>\n",
       "    </tr>\n",
       "    <tr>\n",
       "      <th>119681</th>\n",
       "      <td>F</td>\n",
       "      <td>Trinidad</td>\n",
       "    </tr>\n",
       "    <tr>\n",
       "      <th>119686</th>\n",
       "      <td>M</td>\n",
       "      <td>Laureles</td>\n",
       "    </tr>\n",
       "    <tr>\n",
       "      <th>119707</th>\n",
       "      <td>M</td>\n",
       "      <td>La América</td>\n",
       "    </tr>\n",
       "    <tr>\n",
       "      <th>119757</th>\n",
       "      <td>F</td>\n",
       "      <td>Pajarito</td>\n",
       "    </tr>\n",
       "  </tbody>\n",
       "</table>\n",
       "<p>5338 rows × 2 columns</p>\n",
       "</div>"
      ],
      "text/plain": [
       "       sexo      nombre_barrio\n",
       "87355     M         El Poblado\n",
       "87356     F    SIN INFORMACION\n",
       "87357     F  Campo Valdes No.2\n",
       "87379     F        Los Angeles\n",
       "87397     F    SIN INFORMACION\n",
       "...     ...                ...\n",
       "119676    M          Andalucía\n",
       "119681    F           Trinidad\n",
       "119686    M           Laureles\n",
       "119707    M         La América\n",
       "119757    F           Pajarito\n",
       "\n",
       "[5338 rows x 2 columns]"
      ]
     },
     "execution_count": 8,
     "metadata": {},
     "output_type": "execute_result"
    }
   ],
   "source": [
    "# Encontrar correlacion entre sexo y barrios.\n",
    "file[['sexo','nombre_barrio']]"
   ]
  },
  {
   "cell_type": "code",
   "execution_count": 9,
   "metadata": {},
   "outputs": [
    {
     "data": {
      "text/plain": [
       "<matplotlib.axes._subplots.AxesSubplot at 0x26589c35250>"
      ]
     },
     "execution_count": 9,
     "metadata": {},
     "output_type": "execute_result"
    },
    {
     "data": {
      "image/png": "[encoded data removed]",
      "text/plain": [
       "<Figure size 432x288 with 1 Axes>"
      ]
     },
     "metadata": {
      "needs_background": "light"
     },
     "output_type": "display_data"
    }
   ],
   "source": [
    "# Diagrama de cajas y bigotes con respecto a la edad, datos promedio [20,40]\n",
    "sns.boxplot(file['edad'])"
   ]
  },
  {
   "cell_type": "code",
   "execution_count": 10,
   "metadata": {},
   "outputs": [
    {
     "data": {
      "image/png": "[encoded data removed]",
      "text/plain": [
       "<Figure size 432x288 with 1 Axes>"
      ]
     },
     "metadata": {
      "needs_background": "light"
     },
     "output_type": "display_data"
    }
   ],
   "source": [
    "# Distribución normal de la edad. \n",
    "Distri = sns.distplot(file['edad'],\n",
    "                  bins=20,\n",
    "                  kde=True,\n",
    "                  norm_hist=False,\n",
    "                  color='r',\n",
    "                  hist_kws={\"linewidth\": 10,'alpha':1})\n",
    "Distri.set(xlabel='Distribution', ylabel='Frecuencia')\n",
    "plt.show()"
   ]
  },
  {
   "cell_type": "code",
   "execution_count": 14,
   "metadata": {},
   "outputs": [
    {
     "data": {
      "text/plain": [
       "Ttest_indResult(statistic=3.009533547909345, pvalue=0.002628721625143908)"
      ]
     },
     "execution_count": 14,
     "metadata": {},
     "output_type": "execute_result"
    }
   ],
   "source": [
    "#Existe significancia de genero con respecto al año?\n",
    "scipy.stats.ttest_ind(file[file['sexo'] == 'F']['year'],\n",
    "                        file[file['sexo'] == 'M']['year'], equal_var = True)\n"
   ]
  },
  {
   "cell_type": "code",
   "execution_count": 15,
   "metadata": {
    "scrolled": true
   },
   "outputs": [
    {
     "data": {
      "text/html": [
       "<div>\n",
       "<style scoped>\n",
       "    .dataframe tbody tr th:only-of-type {\n",
       "        vertical-align: middle;\n",
       "    }\n",
       "\n",
       "    .dataframe tbody tr th {\n",
       "        vertical-align: top;\n",
       "    }\n",
       "\n",
       "    .dataframe thead th {\n",
       "        text-align: right;\n",
       "    }\n",
       "</style>\n",
       "<table border=\"1\" class=\"dataframe\">\n",
       "  <thead>\n",
       "    <tr style=\"text-align: right;\">\n",
       "      <th></th>\n",
       "      <th>comuna</th>\n",
       "    </tr>\n",
       "  </thead>\n",
       "  <tbody>\n",
       "    <tr>\n",
       "      <th>87356</th>\n",
       "      <td>SIN INFORMACION</td>\n",
       "    </tr>\n",
       "    <tr>\n",
       "      <th>87357</th>\n",
       "      <td>Manrique</td>\n",
       "    </tr>\n",
       "    <tr>\n",
       "      <th>87379</th>\n",
       "      <td>La Candelaria</td>\n",
       "    </tr>\n",
       "    <tr>\n",
       "      <th>87397</th>\n",
       "      <td>SIN INFORMACION</td>\n",
       "    </tr>\n",
       "    <tr>\n",
       "      <th>87807</th>\n",
       "      <td>Robledo</td>\n",
       "    </tr>\n",
       "    <tr>\n",
       "      <th>...</th>\n",
       "      <td>...</td>\n",
       "    </tr>\n",
       "    <tr>\n",
       "      <th>119337</th>\n",
       "      <td>Manrique</td>\n",
       "    </tr>\n",
       "    <tr>\n",
       "      <th>119449</th>\n",
       "      <td>Robledo</td>\n",
       "    </tr>\n",
       "    <tr>\n",
       "      <th>119629</th>\n",
       "      <td>Villa Hermosa</td>\n",
       "    </tr>\n",
       "    <tr>\n",
       "      <th>119681</th>\n",
       "      <td>Guayabal</td>\n",
       "    </tr>\n",
       "    <tr>\n",
       "      <th>119757</th>\n",
       "      <td>Robledo</td>\n",
       "    </tr>\n",
       "  </tbody>\n",
       "</table>\n",
       "<p>1616 rows × 1 columns</p>\n",
       "</div>"
      ],
      "text/plain": [
       "                 comuna\n",
       "87356   SIN INFORMACION\n",
       "87357          Manrique\n",
       "87379     La Candelaria\n",
       "87397   SIN INFORMACION\n",
       "87807           Robledo\n",
       "...                 ...\n",
       "119337         Manrique\n",
       "119449          Robledo\n",
       "119629    Villa Hermosa\n",
       "119681         Guayabal\n",
       "119757          Robledo\n",
       "\n",
       "[1616 rows x 1 columns]"
      ]
     },
     "execution_count": 15,
     "metadata": {},
     "output_type": "execute_result"
    }
   ],
   "source": [
    "# existe significancia de genero con respecto a la comuna?\n",
    "Comunas_mujeres = pd.DataFrame(file[file['sexo'] == 'F']['comuna'])\n",
    "Comunas_hombres = pd.DataFrame(file[file['sexo'] == 'M']['comuna'])\n",
    "Comunas_mujeres"
   ]
  },
  {
   "cell_type": "markdown",
   "metadata": {},
   "source": [
    "# "
   ]
  },
  {
   "cell_type": "code",
   "execution_count": 16,
   "metadata": {},
   "outputs": [],
   "source": [
    "Arreglo1 = Comunas_mujeres['comuna'].value_counts()\n",
    "Arreglo2 = Comunas_hombres['comuna'].value_counts()\n",
    "Vizualization1 = pd.DataFrame(Comunas_mujeres['comuna'].value_counts())\n",
    "Vizualization2 = pd.DataFrame(Comunas_hombres['comuna'].value_counts())\n",
    "A=list(Vizualization1.index)\n",
    "B=list(Vizualization2.index)"
   ]
  },
  {
   "cell_type": "code",
   "execution_count": 17,
   "metadata": {},
   "outputs": [
    {
     "data": {
      "image/png": "[encoded data removed]",
      "text/plain": [
       "<Figure size 432x288 with 2 Axes>"
      ]
     },
     "metadata": {},
     "output_type": "display_data"
    }
   ],
   "source": [
    "plt.subplot(1,2,1)\n",
    "plt.hist(Arreglo1)\n",
    "\n",
    "plt.subplot(1,2,2)\n",
    "plt.hist(Arreglo2)\n",
    "\n",
    "plt.tight_layout()\n",
    "plt.show()"
   ]
  },
  {
   "cell_type": "code",
   "execution_count": 18,
   "metadata": {},
   "outputs": [
    {
     "name": "stderr",
     "output_type": "stream",
     "text": [
      "<ipython-input-18-1ead2a3467fa>:4: MatplotlibDeprecationWarning: Adding an axes using the same arguments as a previous axes currently reuses the earlier instance.  In a future version, a new instance will always be created and returned.  Meanwhile, this warning can be suppressed, and the future behavior ensured, by passing a unique label to each axes instance.\n",
      "  plt.subplot(1,2,1)\n"
     ]
    },
    {
     "data": {
      "image/png": "[encoded data removed]",
      "text/plain": [
       "<Figure size 432x288 with 1 Axes>"
      ]
     },
     "metadata": {},
     "output_type": "display_data"
    }
   ],
   "source": [
    "plt.subplot(1,2,1)\n",
    "plt.plot(Arreglo1,A,'g')\n",
    "\n",
    "plt.subplot(1,2,1)\n",
    "plt.plot(Arreglo2,B,'k')\n",
    "\n",
    "#Grafico verde mujeres, grafico negro hombres.\n",
    "plt.show()"
   ]
  },
  {
   "cell_type": "markdown",
   "metadata": {},
   "source": [
    "---\n",
    "\n",
    "Veamos la proporción total de personas intoxicadas separadas por su género:"
   ]
  },
  {
   "cell_type": "code",
   "execution_count": 19,
   "metadata": {},
   "outputs": [
    {
     "data": {
      "image/png": "[encoded data removed]",
      "text/plain": [
       "<Figure size 432x288 with 1 Axes>"
      ]
     },
     "metadata": {},
     "output_type": "display_data"
    }
   ],
   "source": [
    "# Proporcion total de hombres y mujeres intoxicados registrados\n",
    "\n",
    "datapie = [len(file[file['sexo'] == 'M']), len(file[file['sexo'] == 'F'])]\n",
    "labels = ['hombres', 'mujeres']\n",
    "colors = sns.color_palette('pastel')[0:2]\n",
    "plt.pie(datapie, labels=labels, colors=colors, autopct='%.3f%%', radius=1.5); plt.show()"
   ]
  },
  {
   "cell_type": "markdown",
   "metadata": {},
   "source": [
    "Una breve descripción de los datos estadísticos de interés sobre la edad de la población es:"
   ]
  },
  {
   "cell_type": "code",
   "execution_count": 20,
   "metadata": {},
   "outputs": [
    {
     "data": {
      "text/plain": [
       "count    5338.000000\n",
       "mean       31.091795\n",
       "std        13.888775\n",
       "min         1.000000\n",
       "25%        21.000000\n",
       "50%        28.000000\n",
       "75%        38.000000\n",
       "max        91.000000\n",
       "Name: edad, dtype: float64"
      ]
     },
     "execution_count": 20,
     "metadata": {},
     "output_type": "execute_result"
    }
   ],
   "source": [
    "# Resumen estadistico de las edades de los intoxicados\n",
    "file['edad'].describe()"
   ]
  },
  {
   "cell_type": "markdown",
   "metadata": {},
   "source": [
    "---\n",
    "\n",
    "* Para poder diferenciar los rangos de edad para cada año de las personas que han sufrido intoxicación por consumo de sustancias psicoactivas se tiene el siguiente gráfico:"
   ]
  },
  {
   "cell_type": "code",
   "execution_count": 21,
   "metadata": {
    "scrolled": true
   },
   "outputs": [
    {
     "data": {
      "text/plain": [
       "<matplotlib.axes._subplots.AxesSubplot at 0x2658a801a60>"
      ]
     },
     "execution_count": 21,
     "metadata": {},
     "output_type": "execute_result"
    },
    {
     "data": {
      "image/png": "[encoded data removed]",
      "text/plain": [
       "<Figure size 432x288 with 1 Axes>"
      ]
     },
     "metadata": {},
     "output_type": "display_data"
    }
   ],
   "source": [
    "# Densidad de edad entre hombres y mujeres intoxicados para cada año\n",
    "#sns.set_theme()\n",
    "sns.lineplot(data=file, x=\"year\", y=\"edad\", hue='sexo')"
   ]
  },
  {
   "cell_type": "markdown",
   "metadata": {},
   "source": [
    "Se ha encontrado en general un mayor rango de edades entre las mujeres que han sufrido este tipo de intoxicación presentando una mayor diferencia de edad hacia el año 2012. Por otro lado, la población masculina presenta en general un menor rango de edades para cada año, presentando edades que no se alejan tanto de la media.\n",
    "\n",
    "La linea central representa la estimación de la media, las bandas inferior y superior son el intervalo de confianza para la media, con un 95% de confianza."
   ]
  },
  {
   "cell_type": "markdown",
   "metadata": {},
   "source": [
    "---\n",
    "\n",
    "* Veamos ahora la cantidad de hombres y mujeres intoxicados cada año, visualizaremos el aumento o disminución de los casos para cada año:"
   ]
  },
  {
   "cell_type": "code",
   "execution_count": 22,
   "metadata": {},
   "outputs": [],
   "source": [
    "years = []; years_r = []; sexo = []; cantidad = []\n",
    "\n",
    "for y in file['year']:\n",
    "    if years_r.count(y) < 2:\n",
    "        years_r.append(y)\n",
    "    if y not in years:\n",
    "        years.append(y)\n",
    "        sexo.append('M')\n",
    "        sexo.append('F')\n",
    "\n",
    "for y1 in years:\n",
    "    cantidad.append(len(file[(file['year'] == y1) & (file['sexo'] == 'M')]))\n",
    "    cantidad.append(len(file[(file['year'] == y1) & (file['sexo'] == 'F')]))"
   ]
  },
  {
   "cell_type": "code",
   "execution_count": 23,
   "metadata": {
    "scrolled": true
   },
   "outputs": [
    {
     "data": {
      "text/html": [
       "<div>\n",
       "<style scoped>\n",
       "    .dataframe tbody tr th:only-of-type {\n",
       "        vertical-align: middle;\n",
       "    }\n",
       "\n",
       "    .dataframe tbody tr th {\n",
       "        vertical-align: top;\n",
       "    }\n",
       "\n",
       "    .dataframe thead th {\n",
       "        text-align: right;\n",
       "    }\n",
       "</style>\n",
       "<table border=\"1\" class=\"dataframe\">\n",
       "  <thead>\n",
       "    <tr style=\"text-align: right;\">\n",
       "      <th></th>\n",
       "      <th>year</th>\n",
       "      <th>sexo</th>\n",
       "      <th>cantidad</th>\n",
       "    </tr>\n",
       "  </thead>\n",
       "  <tbody>\n",
       "    <tr>\n",
       "      <th>0</th>\n",
       "      <td>2010</td>\n",
       "      <td>M</td>\n",
       "      <td>84</td>\n",
       "    </tr>\n",
       "    <tr>\n",
       "      <th>1</th>\n",
       "      <td>2010</td>\n",
       "      <td>F</td>\n",
       "      <td>23</td>\n",
       "    </tr>\n",
       "    <tr>\n",
       "      <th>2</th>\n",
       "      <td>2011</td>\n",
       "      <td>M</td>\n",
       "      <td>158</td>\n",
       "    </tr>\n",
       "    <tr>\n",
       "      <th>3</th>\n",
       "      <td>2011</td>\n",
       "      <td>F</td>\n",
       "      <td>67</td>\n",
       "    </tr>\n",
       "    <tr>\n",
       "      <th>4</th>\n",
       "      <td>2012</td>\n",
       "      <td>M</td>\n",
       "      <td>326</td>\n",
       "    </tr>\n",
       "    <tr>\n",
       "      <th>5</th>\n",
       "      <td>2012</td>\n",
       "      <td>F</td>\n",
       "      <td>117</td>\n",
       "    </tr>\n",
       "    <tr>\n",
       "      <th>6</th>\n",
       "      <td>2013</td>\n",
       "      <td>M</td>\n",
       "      <td>247</td>\n",
       "    </tr>\n",
       "    <tr>\n",
       "      <th>7</th>\n",
       "      <td>2013</td>\n",
       "      <td>F</td>\n",
       "      <td>82</td>\n",
       "    </tr>\n",
       "    <tr>\n",
       "      <th>8</th>\n",
       "      <td>2014</td>\n",
       "      <td>M</td>\n",
       "      <td>439</td>\n",
       "    </tr>\n",
       "    <tr>\n",
       "      <th>9</th>\n",
       "      <td>2014</td>\n",
       "      <td>F</td>\n",
       "      <td>176</td>\n",
       "    </tr>\n",
       "    <tr>\n",
       "      <th>10</th>\n",
       "      <td>2015</td>\n",
       "      <td>M</td>\n",
       "      <td>403</td>\n",
       "    </tr>\n",
       "    <tr>\n",
       "      <th>11</th>\n",
       "      <td>2015</td>\n",
       "      <td>F</td>\n",
       "      <td>184</td>\n",
       "    </tr>\n",
       "    <tr>\n",
       "      <th>12</th>\n",
       "      <td>2016</td>\n",
       "      <td>M</td>\n",
       "      <td>433</td>\n",
       "    </tr>\n",
       "    <tr>\n",
       "      <th>13</th>\n",
       "      <td>2016</td>\n",
       "      <td>F</td>\n",
       "      <td>224</td>\n",
       "    </tr>\n",
       "    <tr>\n",
       "      <th>14</th>\n",
       "      <td>2017</td>\n",
       "      <td>M</td>\n",
       "      <td>496</td>\n",
       "    </tr>\n",
       "    <tr>\n",
       "      <th>15</th>\n",
       "      <td>2017</td>\n",
       "      <td>F</td>\n",
       "      <td>225</td>\n",
       "    </tr>\n",
       "    <tr>\n",
       "      <th>16</th>\n",
       "      <td>2018</td>\n",
       "      <td>M</td>\n",
       "      <td>512</td>\n",
       "    </tr>\n",
       "    <tr>\n",
       "      <th>17</th>\n",
       "      <td>2018</td>\n",
       "      <td>F</td>\n",
       "      <td>223</td>\n",
       "    </tr>\n",
       "    <tr>\n",
       "      <th>18</th>\n",
       "      <td>2019</td>\n",
       "      <td>M</td>\n",
       "      <td>624</td>\n",
       "    </tr>\n",
       "    <tr>\n",
       "      <th>19</th>\n",
       "      <td>2019</td>\n",
       "      <td>F</td>\n",
       "      <td>295</td>\n",
       "    </tr>\n",
       "  </tbody>\n",
       "</table>\n",
       "</div>"
      ],
      "text/plain": [
       "    year sexo  cantidad\n",
       "0   2010    M        84\n",
       "1   2010    F        23\n",
       "2   2011    M       158\n",
       "3   2011    F        67\n",
       "4   2012    M       326\n",
       "5   2012    F       117\n",
       "6   2013    M       247\n",
       "7   2013    F        82\n",
       "8   2014    M       439\n",
       "9   2014    F       176\n",
       "10  2015    M       403\n",
       "11  2015    F       184\n",
       "12  2016    M       433\n",
       "13  2016    F       224\n",
       "14  2017    M       496\n",
       "15  2017    F       225\n",
       "16  2018    M       512\n",
       "17  2018    F       223\n",
       "18  2019    M       624\n",
       "19  2019    F       295"
      ]
     },
     "execution_count": 23,
     "metadata": {},
     "output_type": "execute_result"
    }
   ],
   "source": [
    "dataMF = {'year':years_r, 'sexo':sexo, 'cantidad':cantidad}\n",
    "df_dataMF = pd.DataFrame(dataMF)\n",
    "df_dataMF"
   ]
  },
  {
   "cell_type": "code",
   "execution_count": 24,
   "metadata": {},
   "outputs": [
    {
     "data": {
      "text/plain": [
       "Text(0.5, 1.0, 'cantidad de intoxicados por año')"
      ]
     },
     "execution_count": 24,
     "metadata": {},
     "output_type": "execute_result"
    },
    {
     "data": {
      "image/png": "[encoded data removed]",
      "text/plain": [
       "<Figure size 432x288 with 1 Axes>"
      ]
     },
     "metadata": {},
     "output_type": "display_data"
    }
   ],
   "source": [
    "sns.lineplot(data=df_dataMF, x=\"year\", y=\"cantidad\", hue='sexo'); plt.title('cantidad de intoxicados por año')"
   ]
  },
  {
   "cell_type": "markdown",
   "metadata": {},
   "source": [
    "Vemos que los registros de intoxicaciones presentan un aumento respecto a los años anteriores, teniendo únicamente un decrecimiento considerable hacia el año 2013."
   ]
  },
  {
   "cell_type": "markdown",
   "metadata": {},
   "source": [
    "---\n",
    "\n",
    "* Veamos la densidad de casos discretizada por sexo y edad, para la concentración hacia el 50% de registros que se tienen de los casos:"
   ]
  },
  {
   "cell_type": "code",
   "execution_count": 25,
   "metadata": {},
   "outputs": [
    {
     "data": {
      "text/plain": [
       "<matplotlib.axes._subplots.AxesSubplot at 0x2658a937ee0>"
      ]
     },
     "execution_count": 25,
     "metadata": {},
     "output_type": "execute_result"
    },
    {
     "data": {
      "image/png": "[encoded data removed]",
      "text/plain": [
       "<Figure size 432x288 with 1 Axes>"
      ]
     },
     "metadata": {},
     "output_type": "display_data"
    }
   ],
   "source": [
    "sns.boxplot(x='sexo', y='edad', data=file)"
   ]
  },
  {
   "cell_type": "markdown",
   "metadata": {},
   "source": [
    "para los tipo de casos vamos a conocer su cantidad"
   ]
  },
  {
   "cell_type": "code",
   "execution_count": 31,
   "metadata": {},
   "outputs": [
    {
     "data": {
      "text/plain": [
       "4    4821\n",
       "3     510\n",
       "5       7\n",
       "Name: tip_cas, dtype: int64"
      ]
     },
     "execution_count": 31,
     "metadata": {},
     "output_type": "execute_result"
    }
   ],
   "source": [
    "file[\"tip_cas\"].value_counts()"
   ]
  },
  {
   "cell_type": "markdown",
   "metadata": {},
   "source": [
    "* De aquí concluimos que el 100% de los casos han sido confirmados por alguna entidad médica."
   ]
  },
  {
   "cell_type": "markdown",
   "metadata": {},
   "source": [
    "# Conclusiones poblado"
   ]
  },
  {
   "cell_type": "code",
   "execution_count": 34,
   "metadata": {},
   "outputs": [
    {
     "data": {
      "text/plain": [
       "383"
      ]
     },
     "execution_count": 34,
     "metadata": {},
     "output_type": "execute_result"
    }
   ],
   "source": [
    "Tipo_No = list(file[\"tipo_ss\"])\n",
    "Tipo_Com = list(file[\"comuna\"])\n",
    "save_type=[]\n",
    "save_comuna=[]\n",
    "for i in range(len(Tipo_No)): # extración de los no asegurados.\n",
    "    if Tipo_No[i]=='N':\n",
    "        save_type.append(Tipo_No[i])\n",
    "        save_comuna.append(Tipo_Com[i])\n",
    "        \n",
    "Guardar_poblado_infectados=0\n",
    "for k in range(len(Tipo_Com)):\n",
    "    if Tipo_Com[k]==\"El Poblado\":\n",
    "        Guardar_poblado_infectados+=1\n",
    "Guardar_poblado_infectados"
   ]
  },
  {
   "cell_type": "markdown",
   "metadata": {},
   "source": [
    "* Son 383 consumidores en el poblado"
   ]
  },
  {
   "cell_type": "markdown",
   "metadata": {},
   "source": [
    "# Personas sin seguro por comuna."
   ]
  },
  {
   "cell_type": "code",
   "execution_count": 42,
   "metadata": {
    "scrolled": true
   },
   "outputs": [
    {
     "data": {
      "text/plain": [
       "El Poblado                        88\n",
       "SIN INFORMACION                   84\n",
       "Buenos Aires                      69\n",
       "Villa Hermosa                     62\n",
       "Popular                           53\n",
       "La Candelaria                     53\n",
       "Manrique                          40\n",
       "SIN UBICACION EN ZONA URBANA      39\n",
       "Robledo                           39\n",
       "Aranjuez                          34\n",
       "Castilla                          31\n",
       "Belen                             29\n",
       "Doce de Octubre                   23\n",
       "San Antonio de Prado              23\n",
       "Santa Cruz                        21\n",
       "Guayabal                          20\n",
       "San Javier                        18\n",
       "Laureles                          16\n",
       "Corregimiento de San Cristobal    15\n",
       "La America                        10\n",
       "Corregimiento De Santa Elena       4\n",
       "SIN UBICACIoN EN ZONA URBANA       3\n",
       "Santa elena                        1\n",
       "Altavista                          1\n",
       "Name: Comuna, dtype: int64"
      ]
     },
     "execution_count": 42,
     "metadata": {},
     "output_type": "execute_result"
    }
   ],
   "source": [
    "Dt_No= pd.DataFrame((save_type),columns=[\"No asegurado\"])\n",
    "Dt_No[\"Comuna\"]=save_comuna\n",
    "Enlistadas_las_comunas_sin_seguro = Dt_No[\"Comuna\"].value_counts()\n",
    "Enlistadas_las_comunas_sin_seguro"
   ]
  },
  {
   "cell_type": "code",
   "execution_count": 43,
   "metadata": {},
   "outputs": [
    {
     "data": {
      "text/plain": [
       "0.2297650130548303"
      ]
     },
     "execution_count": 43,
     "metadata": {},
     "output_type": "execute_result"
    }
   ],
   "source": [
    "proporcion_poblado = list(Enlistadas_las_comunas_sin_seguro)[0]/Guardar_poblado_infectados\n",
    "proporcion_poblado"
   ]
  },
  {
   "cell_type": "markdown",
   "metadata": {},
   "source": [
    "* El 22% de los infectados en el barrio con la mejor economía de medellín y con mejor estratos no poseen un sistema de salud estable, siendo esta el porcentaje más alto de personas sin seguro medico de la población por comunas."
   ]
  },
  {
   "cell_type": "code",
   "execution_count": null,
   "metadata": {},
   "outputs": [],
   "source": [
    "save_type2=[]\n",
    "save_comuna2=[]\n",
    "for h in range(len(Tipo_No)):\n",
    "    if Tipo_No[h]=='C':\n",
    "        save_type2.append(Tipo_No[h])\n",
    "        save_comuna2.append(Tipo_Com[h])\n",
    "        "
   ]
  },
  {
   "cell_type": "code",
   "execution_count": null,
   "metadata": {},
   "outputs": [],
   "source": [
    "Dt_con= pd.DataFrame((save_type2),columns=[\"Asegurado\"])\n",
    "Dt_con[\"Comuna\"]=save_comuna2\n",
    "Dt_con[\"Comuna\"].value_counts()\n",
    "\n",
    "# Asegurados con respecto a la comuna."
   ]
  },
  {
   "cell_type": "code",
   "execution_count": null,
   "metadata": {},
   "outputs": [],
   "source": [
    "Tipo_No = list(file[\"tipo_ss\"])\n",
    "Tipo_Com = list(file[\"comuna\"])\n",
    "save_type_poblado=[]\n",
    "save_type_poblado_otros=[]\n",
    "#save_poblado=[]\n",
    "for i in range(len(Tipo_No)):\n",
    "    if Tipo_Com[i]==\"El Poblado\":\n",
    "        if (Tipo_No[i]=='N')or(Tipo_No[i]==\"C\"):\n",
    "            save_type_poblado.append(Tipo_No[i])\n",
    "            \n",
    "for m in range(len(Tipo_No)):\n",
    "    if Tipo_Com[m]==\"El Poblado\":\n",
    "        if (Tipo_No[m]=='S')or(Tipo_No[m]==\"P\")or(Tipo_No[m]==\"E\")or(Tipo_No[m]==\"I\")or(Tipo_No[m]==\"SD\"):\n",
    "            save_type_poblado_otros.append(Tipo_No[m])\n",
    "Data_poblado = pd.DataFrame((save_type_poblado),columns=[\"Con o sin seguro\"])\n",
    "Data_poblado_otros= pd.DataFrame((save_type_poblado_otros),columns=[\"Otros\"])\n",
    "Data_poblado.shape"
   ]
  },
  {
   "cell_type": "markdown",
   "metadata": {},
   "source": [
    "**Podemos notar que de los 383,  338 pertenecen al grupo Con seguro o sin seguro, teniendo así una mayor proporcion de personas aseguradas en medellín, a la vez que personas no aseguradas.**"
   ]
  },
  {
   "cell_type": "code",
   "execution_count": null,
   "metadata": {},
   "outputs": [],
   "source": [
    "datapie_NO = [len(Data_poblado[Data_poblado['Con o sin seguro'] == 'N']), len(Data_poblado[Data_poblado['Con o sin seguro'] == 'C']),\n",
    "              len(Data_poblado_otros[Data_poblado_otros[\"Otros\"]==\"S\"]),\n",
    "             len(Data_poblado_otros[Data_poblado_otros[\"Otros\"]==\"I\"]),\n",
    "             len(Data_poblado_otros[Data_poblado_otros[\"Otros\"]==\"E\"])]\n",
    "labels_NO = ['No asegurados', 'Asegurados',\"Subsidiado\",\"Indeterminado\",\"Especial\"]\n",
    "colors_NO = sns.color_palette('pastel')[0:9]\n",
    "plt.pie(datapie_NO, labels=labels_NO, colors=colors_NO, autopct='%.3f%%', radius=1.5)\n",
    "plt.savefig('Porcentaje_ss_poblado', dpi=300,bbox_inches='tight')\n",
    "plt.show()"
   ]
  },
  {
   "cell_type": "code",
   "execution_count": null,
   "metadata": {},
   "outputs": [],
   "source": [
    "Diciembre_Data = file[(file.semana >= 49) & (file.semana <= 53)]\n",
    "\n",
    "Diciembre_Data[[\"edad\",\"sexo\"]]\n",
    "Diciembre_Data[\"semana\"]"
   ]
  },
  {
   "cell_type": "code",
   "execution_count": 41,
   "metadata": {
    "scrolled": true
   },
   "outputs": [
    {
     "data": {
      "image/png": "[encoded data removed]",
      "text/plain": [
       "<Figure size 1440x360 with 1 Axes>"
      ]
     },
     "metadata": {},
     "output_type": "display_data"
    }
   ],
   "source": [
    "kl=pd.DataFrame(file[\"semana\"].value_counts())\n",
    "Indices_semanas = list(kl.index)\n",
    "plt.figure(figsize=(20,5))\n",
    "Ds=sns.barplot(x=Indices_semanas, y=kl[\"semana\"],color='b')\n",
    "#Ds.set_xticklabels(Ds.get_xticklabels(),rotation=0,ha=\"right\")\n",
    "plt.xlabel(\"Semanas\")\n",
    "plt.ylabel(\"Frecuencia\")\n",
    "#plt.savefig('Personas_respecto_semanas', dpi=300)\n",
    "plt.show()"
   ]
  },
  {
   "cell_type": "code",
   "execution_count": 58,
   "metadata": {},
   "outputs": [
    {
     "data": {
      "text/plain": [
       "1    1017\n",
       "3       7\n",
       "Name: Uni_med, dtype: int64"
      ]
     },
     "execution_count": 58,
     "metadata": {},
     "output_type": "execute_result"
    }
   ],
   "source": [
    "Data_uni_años_2010 = file[(file.uni_med == 1)&(file.year==2010)]\n",
    "Data_uni_dias_2010 = file[(file.uni_med == 3)&(file.year==2010)]\n",
    "\n",
    "Data_uni_años_2019 = file[(file.uni_med == 1)&(file.year==2019)] \n",
    "Data_uni_dias_2019 = file[(file.uni_med == 3)&(file.year==2019)]\n",
    "a=list(Data_uni_años_2010[\"uni_med\"]);aa=list(Data_uni_años_2010[\"year\"])\n",
    "b=list(Data_uni_dias_2010[\"uni_med\"]);bb=list(Data_uni_dias_2010[\"year\"])\n",
    "c=list(Data_uni_años_2019[\"uni_med\"]);cc=list(Data_uni_años_2019[\"year\"])\n",
    "d=list(Data_uni_dias_2019[\"uni_med\"]);dd=list(Data_uni_dias_2019[\"year\"])\n",
    "Lista_full_uni =a+b+c+d\n",
    "Lista_full_años=aa+bb+cc+dd\n",
    "DataFrame_diferencia_años =pd.DataFrame((Lista_full_uni),columns=[\"Uni_med\"])\n",
    "DataFrame_diferencia_años[\"Año\"]=Lista_full_años\n",
    "DataFrame_diferencia_años[\"Uni_med\"].value_counts()"
   ]
  },
  {
   "cell_type": "code",
   "execution_count": 59,
   "metadata": {},
   "outputs": [
    {
     "data": {
      "image/png": "[encoded data removed]",
      "text/plain": [
       "<Figure size 432x288 with 2 Axes>"
      ]
     },
     "metadata": {},
     "output_type": "display_data"
    }
   ],
   "source": [
    "plt.subplot(1,2,1)\n",
    "plt.hist(a);plt.title(\"Consumidores constantes 2010\")\n",
    "\n",
    "plt.subplot(1,2,2)\n",
    "plt.hist(c);plt.title(\"Consumidores constantes 2019\")\n",
    "plt.tight_layout()\n",
    "#plt.savefig('Diferencia de personas constantes', dpi=300,bbox_inches='tight')\n",
    "#plt.show()"
   ]
  },
  {
   "cell_type": "markdown",
   "metadata": {},
   "source": [
    "# Grafica total del tipo_ss"
   ]
  },
  {
   "cell_type": "code",
   "execution_count": null,
   "metadata": {},
   "outputs": [],
   "source": [
    "datapie_Total = [len(file[file['tipo_ss'] == 'N']), len(file[file['tipo_ss'] == 'C']),\n",
    "            len(file[file['tipo_ss'] == 'P']),\n",
    "              len(file[file[\"tipo_ss\"]==\"S\"]),\n",
    "             len(file[file[\"tipo_ss\"]==\"I\"]),\n",
    "             len(file[file[\"tipo_ss\"]==\"E\"])]\n",
    "labels_Total = ['No asegurados','Asegurados', \"Excepcion\",\"Subsidiado\",\"Indeterminado\",\"Especial\"]\n",
    "colors_Total = sns.color_palette('pastel')[0:9]\n",
    "plt.pie(datapie_Total, labels=labels_Total, colors=colors_Total, autopct='%.3f%%', radius=2)\n",
    "plt.savefig('Porcentaje_ss_Total', dpi=300,bbox_inches='tight')\n",
    "plt.show()"
   ]
  },
  {
   "cell_type": "markdown",
   "metadata": {},
   "source": [
    "# Buenos aires"
   ]
  },
  {
   "cell_type": "code",
   "execution_count": 44,
   "metadata": {},
   "outputs": [],
   "source": [
    "Tipo_No = list(file[\"tipo_ss\"])\n",
    "Tipo_Com = list(file[\"comuna\"])\n",
    "buenos_aires=[]\n",
    "for n in range(len(Tipo_No)):\n",
    "    if Tipo_Com[n]==\"Buenos Aires\":\n",
    "        if (Tipo_No[n]=='N')or(Tipo_No[n]==\"C\")or(Tipo_No[n]=='S')or(Tipo_No[n]==\"P\")or(Tipo_No[n]==\"E\")or(Tipo_No[n]==\"I\")or(Tipo_No[n]==\"SD\"):\n",
    "            buenos_aires.append(Tipo_No[n])\n",
    "Data_buenos= pd.DataFrame((buenos_aires),columns=[\"Tipo\"])"
   ]
  },
  {
   "cell_type": "markdown",
   "metadata": {},
   "source": [
    "* Torta de los tipo_ss de buenos aires"
   ]
  },
  {
   "cell_type": "code",
   "execution_count": 45,
   "metadata": {},
   "outputs": [
    {
     "data": {
      "image/png": "[encoded data removed]",
      "text/plain": [
       "<Figure size 432x288 with 1 Axes>"
      ]
     },
     "metadata": {},
     "output_type": "display_data"
    }
   ],
   "source": [
    "datapie_Buenos_aires = [len(Data_buenos[Data_buenos['Tipo'] == 'N']), len(Data_buenos[Data_buenos['Tipo'] == 'C']),\n",
    "              len(Data_buenos[Data_buenos[\"Tipo\"]==\"S\"]),\n",
    "             len(Data_buenos[Data_buenos[\"Tipo\"]==\"I\"]),\n",
    "             len(Data_buenos[Data_buenos[\"Tipo\"]==\"E\"])]\n",
    "labels_Buenos = ['No asegurados','Asegurados',\"Subsidiado\",\"Indeterminado\",\"Especial\"]\n",
    "colors_Buenos = sns.color_palette('pastel')[0:9]\n",
    "plt.pie(datapie_Buenos_aires, labels=labels_Buenos, colors=colors_Buenos, autopct='%.3f%%', radius=2)\n",
    "#plt.savefig('Porcentaje_ss_Buenos_aires', dpi=300,bbox_inches='tight')\n",
    "plt.show()"
   ]
  },
  {
   "cell_type": "code",
   "execution_count": 93,
   "metadata": {},
   "outputs": [
    {
     "data": {
      "text/html": [
       "<div>\n",
       "<style scoped>\n",
       "    .dataframe tbody tr th:only-of-type {\n",
       "        vertical-align: middle;\n",
       "    }\n",
       "\n",
       "    .dataframe tbody tr th {\n",
       "        vertical-align: top;\n",
       "    }\n",
       "\n",
       "    .dataframe thead th {\n",
       "        text-align: right;\n",
       "    }\n",
       "</style>\n",
       "<table border=\"1\" class=\"dataframe\">\n",
       "  <thead>\n",
       "    <tr style=\"text-align: right;\">\n",
       "      <th>semana</th>\n",
       "      <th>1</th>\n",
       "      <th>2</th>\n",
       "      <th>3</th>\n",
       "      <th>4</th>\n",
       "      <th>5</th>\n",
       "      <th>6</th>\n",
       "      <th>7</th>\n",
       "      <th>8</th>\n",
       "      <th>9</th>\n",
       "      <th>10</th>\n",
       "      <th>...</th>\n",
       "      <th>44</th>\n",
       "      <th>45</th>\n",
       "      <th>46</th>\n",
       "      <th>47</th>\n",
       "      <th>48</th>\n",
       "      <th>49</th>\n",
       "      <th>50</th>\n",
       "      <th>51</th>\n",
       "      <th>52</th>\n",
       "      <th>53</th>\n",
       "    </tr>\n",
       "    <tr>\n",
       "      <th>sexo</th>\n",
       "      <th></th>\n",
       "      <th></th>\n",
       "      <th></th>\n",
       "      <th></th>\n",
       "      <th></th>\n",
       "      <th></th>\n",
       "      <th></th>\n",
       "      <th></th>\n",
       "      <th></th>\n",
       "      <th></th>\n",
       "      <th></th>\n",
       "      <th></th>\n",
       "      <th></th>\n",
       "      <th></th>\n",
       "      <th></th>\n",
       "      <th></th>\n",
       "      <th></th>\n",
       "      <th></th>\n",
       "      <th></th>\n",
       "      <th></th>\n",
       "      <th></th>\n",
       "    </tr>\n",
       "  </thead>\n",
       "  <tbody>\n",
       "    <tr>\n",
       "      <th>F</th>\n",
       "      <td>21</td>\n",
       "      <td>14</td>\n",
       "      <td>32</td>\n",
       "      <td>15</td>\n",
       "      <td>29</td>\n",
       "      <td>29</td>\n",
       "      <td>31</td>\n",
       "      <td>23</td>\n",
       "      <td>33</td>\n",
       "      <td>33</td>\n",
       "      <td>...</td>\n",
       "      <td>40</td>\n",
       "      <td>31</td>\n",
       "      <td>27</td>\n",
       "      <td>35</td>\n",
       "      <td>26</td>\n",
       "      <td>34</td>\n",
       "      <td>26</td>\n",
       "      <td>32</td>\n",
       "      <td>36</td>\n",
       "      <td>2</td>\n",
       "    </tr>\n",
       "    <tr>\n",
       "      <th>M</th>\n",
       "      <td>70</td>\n",
       "      <td>61</td>\n",
       "      <td>49</td>\n",
       "      <td>54</td>\n",
       "      <td>57</td>\n",
       "      <td>69</td>\n",
       "      <td>63</td>\n",
       "      <td>57</td>\n",
       "      <td>56</td>\n",
       "      <td>93</td>\n",
       "      <td>...</td>\n",
       "      <td>77</td>\n",
       "      <td>80</td>\n",
       "      <td>79</td>\n",
       "      <td>80</td>\n",
       "      <td>80</td>\n",
       "      <td>89</td>\n",
       "      <td>96</td>\n",
       "      <td>90</td>\n",
       "      <td>104</td>\n",
       "      <td>12</td>\n",
       "    </tr>\n",
       "  </tbody>\n",
       "</table>\n",
       "<p>2 rows × 53 columns</p>\n",
       "</div>"
      ],
      "text/plain": [
       "semana  1   2   3   4   5   6   7   8   9   10  ...  44  45  46  47  48  49  \\\n",
       "sexo                                            ...                           \n",
       "F       21  14  32  15  29  29  31  23  33  33  ...  40  31  27  35  26  34   \n",
       "M       70  61  49  54  57  69  63  57  56  93  ...  77  80  79  80  80  89   \n",
       "\n",
       "semana  50  51   52  53  \n",
       "sexo                     \n",
       "F       26  32   36   2  \n",
       "M       96  90  104  12  \n",
       "\n",
       "[2 rows x 53 columns]"
      ]
     },
     "execution_count": 93,
     "metadata": {},
     "output_type": "execute_result"
    }
   ],
   "source": [
    "cont_table  = pd.crosstab(file['sexo'], file['semana'])\n",
    "cont_table"
   ]
  },
  {
   "cell_type": "code",
   "execution_count": 129,
   "metadata": {},
   "outputs": [],
   "source": [
    "kl=[]\n",
    "semanas_completas=[]\n",
    "lista_sexo=[]\n",
    "for d in range(len(list(cont_table))):\n",
    "    kl.append(cont_table[d+1])\n",
    "    semanas_completas.append(d+1)\n",
    "    semanas_completas.append(d+1)\n",
    "    \n",
    "    lista_sexo.append(\"F\")\n",
    "\n",
    "    lista_sexo.append(\"M\")"
   ]
  },
  {
   "cell_type": "code",
   "execution_count": 132,
   "metadata": {},
   "outputs": [],
   "source": [
    "lista_doble=[]\n",
    "for mn in range(len(kl)):\n",
    "    lista_doble.append(list(kl[mn]))"
   ]
  },
  {
   "cell_type": "code",
   "execution_count": 167,
   "metadata": {},
   "outputs": [],
   "source": [
    "lista_guardar=[]\n",
    "for gh in range(53):\n",
    "    lista_guardar.append(lista_doble[gh][0])\n",
    "    lista_guardar.append(lista_doble[gh][1])"
   ]
  },
  {
   "cell_type": "code",
   "execution_count": 171,
   "metadata": {},
   "outputs": [
    {
     "data": {
      "text/html": [
       "<div>\n",
       "<style scoped>\n",
       "    .dataframe tbody tr th:only-of-type {\n",
       "        vertical-align: middle;\n",
       "    }\n",
       "\n",
       "    .dataframe tbody tr th {\n",
       "        vertical-align: top;\n",
       "    }\n",
       "\n",
       "    .dataframe thead th {\n",
       "        text-align: right;\n",
       "    }\n",
       "</style>\n",
       "<table border=\"1\" class=\"dataframe\">\n",
       "  <thead>\n",
       "    <tr style=\"text-align: right;\">\n",
       "      <th></th>\n",
       "      <th>Semanas</th>\n",
       "      <th>sexo</th>\n",
       "      <th>Cantidad</th>\n",
       "    </tr>\n",
       "  </thead>\n",
       "  <tbody>\n",
       "    <tr>\n",
       "      <th>0</th>\n",
       "      <td>1</td>\n",
       "      <td>F</td>\n",
       "      <td>21</td>\n",
       "    </tr>\n",
       "    <tr>\n",
       "      <th>1</th>\n",
       "      <td>1</td>\n",
       "      <td>M</td>\n",
       "      <td>70</td>\n",
       "    </tr>\n",
       "    <tr>\n",
       "      <th>2</th>\n",
       "      <td>2</td>\n",
       "      <td>F</td>\n",
       "      <td>14</td>\n",
       "    </tr>\n",
       "    <tr>\n",
       "      <th>3</th>\n",
       "      <td>2</td>\n",
       "      <td>M</td>\n",
       "      <td>61</td>\n",
       "    </tr>\n",
       "    <tr>\n",
       "      <th>4</th>\n",
       "      <td>3</td>\n",
       "      <td>F</td>\n",
       "      <td>32</td>\n",
       "    </tr>\n",
       "    <tr>\n",
       "      <th>...</th>\n",
       "      <td>...</td>\n",
       "      <td>...</td>\n",
       "      <td>...</td>\n",
       "    </tr>\n",
       "    <tr>\n",
       "      <th>101</th>\n",
       "      <td>51</td>\n",
       "      <td>M</td>\n",
       "      <td>90</td>\n",
       "    </tr>\n",
       "    <tr>\n",
       "      <th>102</th>\n",
       "      <td>52</td>\n",
       "      <td>F</td>\n",
       "      <td>36</td>\n",
       "    </tr>\n",
       "    <tr>\n",
       "      <th>103</th>\n",
       "      <td>52</td>\n",
       "      <td>M</td>\n",
       "      <td>104</td>\n",
       "    </tr>\n",
       "    <tr>\n",
       "      <th>104</th>\n",
       "      <td>53</td>\n",
       "      <td>F</td>\n",
       "      <td>2</td>\n",
       "    </tr>\n",
       "    <tr>\n",
       "      <th>105</th>\n",
       "      <td>53</td>\n",
       "      <td>M</td>\n",
       "      <td>12</td>\n",
       "    </tr>\n",
       "  </tbody>\n",
       "</table>\n",
       "<p>106 rows × 3 columns</p>\n",
       "</div>"
      ],
      "text/plain": [
       "     Semanas sexo  Cantidad\n",
       "0          1    F        21\n",
       "1          1    M        70\n",
       "2          2    F        14\n",
       "3          2    M        61\n",
       "4          3    F        32\n",
       "..       ...  ...       ...\n",
       "101       51    M        90\n",
       "102       52    F        36\n",
       "103       52    M       104\n",
       "104       53    F         2\n",
       "105       53    M        12\n",
       "\n",
       "[106 rows x 3 columns]"
      ]
     },
     "execution_count": 171,
     "metadata": {},
     "output_type": "execute_result"
    }
   ],
   "source": [
    "Data_completa=pd.DataFrame((semanas_completas),columns=[\"Semanas\"])\n",
    "Data_completa[\"sexo\"]=lista_sexo\n",
    "Data_completa[\"Cantidad\"]=lista_guardar\n",
    "Data_completa"
   ]
  },
  {
   "cell_type": "code",
   "execution_count": 182,
   "metadata": {},
   "outputs": [
    {
     "data": {
      "image/png": "[encoded data removed]",
      "text/plain": [
       "<Figure size 1440x360 with 1 Axes>"
      ]
     },
     "metadata": {},
     "output_type": "display_data"
    }
   ],
   "source": [
    "plt.figure(figsize=(20,5))\n",
    "Tiki = sns.barplot(x=\"Semanas\",y=\"Cantidad\",hue=\"sexo\",data=Data_completa)\n",
    "#Tiki.set_xticklabels(Tiki.get_xticklabels(),rotation=40, ha=\"right\")\n",
    "plt.title(\"intoxicaciones por semana\", size=14)\n",
    "plt.savefig('intoxicaciones por semana', dpi=300,bbox_inches='tight')\n",
    "plt.show()"
   ]
  },
  {
   "cell_type": "code",
   "execution_count": null,
   "metadata": {},
   "outputs": [],
   "source": [
    " "
   ]
  }
 ],
 "metadata": {
  "kernelspec": {
   "display_name": "Python 3",
   "language": "python",
   "name": "python3"
  },
  "language_info": {
   "codemirror_mode": {
    "name": "ipython",
    "version": 3
   },
   "file_extension": ".py",
   "mimetype": "text/x-python",
   "name": "python",
   "nbconvert_exporter": "python",
   "pygments_lexer": "ipython3",
   "version": "3.8.3"
  }
 },
 "nbformat": 4,
 "nbformat_minor": 4
}
